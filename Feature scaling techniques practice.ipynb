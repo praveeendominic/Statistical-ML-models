{
 "cells": [
  {
   "cell_type": "code",
   "execution_count": 1,
   "id": "49f1a277",
   "metadata": {},
   "outputs": [],
   "source": [
    "import pandas as pd\n",
    "import numpy as np\n",
    "import matplotlib.pyplot as plt\n",
    "import seaborn as sns"
   ]
  },
  {
   "cell_type": "code",
   "execution_count": 2,
   "id": "260c6568",
   "metadata": {},
   "outputs": [],
   "source": [
    "from sklearn.datasets import load_boston"
   ]
  },
  {
   "cell_type": "code",
   "execution_count": 8,
   "id": "61ca84c7",
   "metadata": {},
   "outputs": [
    {
     "name": "stderr",
     "output_type": "stream",
     "text": [
      "C:\\Users\\prave\\anaconda3\\envs\\tf2.4\\lib\\site-packages\\sklearn\\utils\\deprecation.py:87: FutureWarning: Function load_boston is deprecated; `load_boston` is deprecated in 1.0 and will be removed in 1.2.\n",
      "\n",
      "    The Boston housing prices dataset has an ethical problem. You can refer to\n",
      "    the documentation of this function for further details.\n",
      "\n",
      "    The scikit-learn maintainers therefore strongly discourage the use of this\n",
      "    dataset unless the purpose of the code is to study and educate about\n",
      "    ethical issues in data science and machine learning.\n",
      "\n",
      "    In this special case, you can fetch the dataset from the original\n",
      "    source::\n",
      "\n",
      "        import pandas as pd\n",
      "        import numpy as np\n",
      "\n",
      "\n",
      "        data_url = \"http://lib.stat.cmu.edu/datasets/boston\"\n",
      "        raw_df = pd.read_csv(data_url, sep=\"\\s+\", skiprows=22, header=None)\n",
      "        data = np.hstack([raw_df.values[::2, :], raw_df.values[1::2, :2]])\n",
      "        target = raw_df.values[1::2, 2]\n",
      "\n",
      "    Alternative datasets include the California housing dataset (i.e.\n",
      "    :func:`~sklearn.datasets.fetch_california_housing`) and the Ames housing\n",
      "    dataset. You can load the datasets as follows::\n",
      "\n",
      "        from sklearn.datasets import fetch_california_housing\n",
      "        housing = fetch_california_housing()\n",
      "\n",
      "    for the California housing dataset and::\n",
      "\n",
      "        from sklearn.datasets import fetch_openml\n",
      "        housing = fetch_openml(name=\"house_prices\", as_frame=True)\n",
      "\n",
      "    for the Ames housing dataset.\n",
      "    \n",
      "  warnings.warn(msg, category=FutureWarning)\n"
     ]
    },
    {
     "data": {
      "text/html": [
       "<div>\n",
       "<style scoped>\n",
       "    .dataframe tbody tr th:only-of-type {\n",
       "        vertical-align: middle;\n",
       "    }\n",
       "\n",
       "    .dataframe tbody tr th {\n",
       "        vertical-align: top;\n",
       "    }\n",
       "\n",
       "    .dataframe thead th {\n",
       "        text-align: right;\n",
       "    }\n",
       "</style>\n",
       "<table border=\"1\" class=\"dataframe\">\n",
       "  <thead>\n",
       "    <tr style=\"text-align: right;\">\n",
       "      <th></th>\n",
       "      <th>CRIM</th>\n",
       "      <th>ZN</th>\n",
       "      <th>INDUS</th>\n",
       "      <th>CHAS</th>\n",
       "      <th>NOX</th>\n",
       "      <th>RM</th>\n",
       "      <th>AGE</th>\n",
       "      <th>DIS</th>\n",
       "      <th>RAD</th>\n",
       "      <th>TAX</th>\n",
       "      <th>PTRATIO</th>\n",
       "      <th>B</th>\n",
       "      <th>LSTAT</th>\n",
       "    </tr>\n",
       "  </thead>\n",
       "  <tbody>\n",
       "    <tr>\n",
       "      <th>0</th>\n",
       "      <td>0.00632</td>\n",
       "      <td>18.0</td>\n",
       "      <td>2.31</td>\n",
       "      <td>0.0</td>\n",
       "      <td>0.538</td>\n",
       "      <td>6.575</td>\n",
       "      <td>65.2</td>\n",
       "      <td>4.0900</td>\n",
       "      <td>1.0</td>\n",
       "      <td>296.0</td>\n",
       "      <td>15.3</td>\n",
       "      <td>396.90</td>\n",
       "      <td>4.98</td>\n",
       "    </tr>\n",
       "    <tr>\n",
       "      <th>1</th>\n",
       "      <td>0.02731</td>\n",
       "      <td>0.0</td>\n",
       "      <td>7.07</td>\n",
       "      <td>0.0</td>\n",
       "      <td>0.469</td>\n",
       "      <td>6.421</td>\n",
       "      <td>78.9</td>\n",
       "      <td>4.9671</td>\n",
       "      <td>2.0</td>\n",
       "      <td>242.0</td>\n",
       "      <td>17.8</td>\n",
       "      <td>396.90</td>\n",
       "      <td>9.14</td>\n",
       "    </tr>\n",
       "    <tr>\n",
       "      <th>2</th>\n",
       "      <td>0.02729</td>\n",
       "      <td>0.0</td>\n",
       "      <td>7.07</td>\n",
       "      <td>0.0</td>\n",
       "      <td>0.469</td>\n",
       "      <td>7.185</td>\n",
       "      <td>61.1</td>\n",
       "      <td>4.9671</td>\n",
       "      <td>2.0</td>\n",
       "      <td>242.0</td>\n",
       "      <td>17.8</td>\n",
       "      <td>392.83</td>\n",
       "      <td>4.03</td>\n",
       "    </tr>\n",
       "    <tr>\n",
       "      <th>3</th>\n",
       "      <td>0.03237</td>\n",
       "      <td>0.0</td>\n",
       "      <td>2.18</td>\n",
       "      <td>0.0</td>\n",
       "      <td>0.458</td>\n",
       "      <td>6.998</td>\n",
       "      <td>45.8</td>\n",
       "      <td>6.0622</td>\n",
       "      <td>3.0</td>\n",
       "      <td>222.0</td>\n",
       "      <td>18.7</td>\n",
       "      <td>394.63</td>\n",
       "      <td>2.94</td>\n",
       "    </tr>\n",
       "    <tr>\n",
       "      <th>4</th>\n",
       "      <td>0.06905</td>\n",
       "      <td>0.0</td>\n",
       "      <td>2.18</td>\n",
       "      <td>0.0</td>\n",
       "      <td>0.458</td>\n",
       "      <td>7.147</td>\n",
       "      <td>54.2</td>\n",
       "      <td>6.0622</td>\n",
       "      <td>3.0</td>\n",
       "      <td>222.0</td>\n",
       "      <td>18.7</td>\n",
       "      <td>396.90</td>\n",
       "      <td>5.33</td>\n",
       "    </tr>\n",
       "  </tbody>\n",
       "</table>\n",
       "</div>"
      ],
      "text/plain": [
       "      CRIM    ZN  INDUS  CHAS    NOX     RM   AGE     DIS  RAD    TAX  \\\n",
       "0  0.00632  18.0   2.31   0.0  0.538  6.575  65.2  4.0900  1.0  296.0   \n",
       "1  0.02731   0.0   7.07   0.0  0.469  6.421  78.9  4.9671  2.0  242.0   \n",
       "2  0.02729   0.0   7.07   0.0  0.469  7.185  61.1  4.9671  2.0  242.0   \n",
       "3  0.03237   0.0   2.18   0.0  0.458  6.998  45.8  6.0622  3.0  222.0   \n",
       "4  0.06905   0.0   2.18   0.0  0.458  7.147  54.2  6.0622  3.0  222.0   \n",
       "\n",
       "   PTRATIO       B  LSTAT  \n",
       "0     15.3  396.90   4.98  \n",
       "1     17.8  396.90   9.14  \n",
       "2     17.8  392.83   4.03  \n",
       "3     18.7  394.63   2.94  \n",
       "4     18.7  396.90   5.33  "
      ]
     },
     "execution_count": 8,
     "metadata": {},
     "output_type": "execute_result"
    }
   ],
   "source": [
    "boston=load_boston()\n",
    "\n",
    "df=pd.DataFrame(boston.data, columns=boston.feature_names)\n",
    "df.head()"
   ]
  },
  {
   "cell_type": "code",
   "execution_count": 10,
   "id": "36fc31c6",
   "metadata": {},
   "outputs": [],
   "source": [
    "# We see that all the numerical variables are in different scales. Lets observe the effect of different scaling\n",
    "# techniques on some variables (TAX, AGE, CHAS)\n",
    "\n",
    "#In practice we usually perform train test split, but y split is not performed in this context as the aim is just to show the\n",
    "#effect of different scaling techniques"
   ]
  },
  {
   "cell_type": "code",
   "execution_count": 43,
   "id": "1db406f3",
   "metadata": {},
   "outputs": [
    {
     "data": {
      "text/plain": [
       "((379, 13), (127, 13))"
      ]
     },
     "execution_count": 43,
     "metadata": {},
     "output_type": "execute_result"
    }
   ],
   "source": [
    "from sklearn.model_selection import train_test_split\n",
    "\n",
    "X_train, X_test=train_test_split(df)\n",
    "\n",
    "X_train.shape, X_test.shape"
   ]
  },
  {
   "cell_type": "code",
   "execution_count": 80,
   "id": "e9c70f90",
   "metadata": {},
   "outputs": [],
   "source": [
    "def scaler(scaler,X_train,X_test):\n",
    "    print(f\"BEFORE SCALING: \\n{df.describe()}\")\n",
    "#     scaled_df=pd.DataFrame(scaler.fit(df),columns=df.columns)\n",
    "    scaler.fit(X_train)\n",
    "    scaled_df=pd.DataFrame(scaler.transform(X_train),columns=df.columns)\n",
    "    print(f\"AFTER SCALING: \\n{np.round(scaled_df.describe())}\")\n",
    "    \n",
    "    fig,(ax1,ax2)=plt.subplots(ncols=2)\n",
    "\n",
    "    ax1.set_title('Before Scaling')\n",
    "    sns.kdeplot(df['TAX'],ax=ax1)\n",
    "    sns.kdeplot(df['AGE'],ax=ax1)\n",
    "    sns.kdeplot(df['CHAS'],ax=ax1)\n",
    "\n",
    "    ax2.set_title('After Scaling')\n",
    "    sns.kdeplot(scaled_df['TAX'],ax=ax2)\n",
    "    sns.kdeplot(scaled_df['AGE'],ax=ax2)\n",
    "    sns.kdeplot(scaled_df['CHAS'],ax=ax2)"
   ]
  },
  {
   "cell_type": "code",
   "execution_count": 81,
   "id": "59d51eb6",
   "metadata": {},
   "outputs": [],
   "source": [
    "from sklearn.preprocessing import StandardScaler, MinMaxScaler, MaxAbsScaler, RobustScaler, Normalizer"
   ]
  },
  {
   "cell_type": "markdown",
   "id": "51073689",
   "metadata": {},
   "source": [
    "\n",
    "### Standard Scaler"
   ]
  },
  {
   "cell_type": "code",
   "execution_count": 82,
   "id": "7a79bafe",
   "metadata": {},
   "outputs": [
    {
     "name": "stdout",
     "output_type": "stream",
     "text": [
      "BEFORE SCALING: \n",
      "             CRIM          ZN       INDUS        CHAS         NOX          RM  \\\n",
      "count  506.000000  506.000000  506.000000  506.000000  506.000000  506.000000   \n",
      "mean     3.613524   11.363636   11.136779    0.069170    0.554695    6.284634   \n",
      "std      8.601545   23.322453    6.860353    0.253994    0.115878    0.702617   \n",
      "min      0.006320    0.000000    0.460000    0.000000    0.385000    3.561000   \n",
      "25%      0.082045    0.000000    5.190000    0.000000    0.449000    5.885500   \n",
      "50%      0.256510    0.000000    9.690000    0.000000    0.538000    6.208500   \n",
      "75%      3.677083   12.500000   18.100000    0.000000    0.624000    6.623500   \n",
      "max     88.976200  100.000000   27.740000    1.000000    0.871000    8.780000   \n",
      "\n",
      "              AGE         DIS         RAD         TAX     PTRATIO           B  \\\n",
      "count  506.000000  506.000000  506.000000  506.000000  506.000000  506.000000   \n",
      "mean    68.574901    3.795043    9.549407  408.237154   18.455534  356.674032   \n",
      "std     28.148861    2.105710    8.707259  168.537116    2.164946   91.294864   \n",
      "min      2.900000    1.129600    1.000000  187.000000   12.600000    0.320000   \n",
      "25%     45.025000    2.100175    4.000000  279.000000   17.400000  375.377500   \n",
      "50%     77.500000    3.207450    5.000000  330.000000   19.050000  391.440000   \n",
      "75%     94.075000    5.188425   24.000000  666.000000   20.200000  396.225000   \n",
      "max    100.000000   12.126500   24.000000  711.000000   22.000000  396.900000   \n",
      "\n",
      "            LSTAT  \n",
      "count  506.000000  \n",
      "mean    12.653063  \n",
      "std      7.141062  \n",
      "min      1.730000  \n",
      "25%      6.950000  \n",
      "50%     11.360000  \n",
      "75%     16.955000  \n",
      "max     37.970000  \n",
      "AFTER SCALING: \n",
      "        CRIM     ZN  INDUS   CHAS    NOX     RM    AGE    DIS    RAD    TAX  \\\n",
      "count  379.0  379.0  379.0  379.0  379.0  379.0  379.0  379.0  379.0  379.0   \n",
      "mean    -0.0   -0.0    0.0    0.0   -0.0   -0.0    0.0   -0.0    0.0   -0.0   \n",
      "std      1.0    1.0    1.0    1.0    1.0    1.0    1.0    1.0    1.0    1.0   \n",
      "min     -0.0   -0.0   -2.0   -0.0   -1.0   -3.0   -2.0   -1.0   -1.0   -1.0   \n",
      "25%     -0.0   -0.0   -1.0   -0.0   -1.0   -1.0   -1.0   -1.0   -1.0   -1.0   \n",
      "50%     -0.0   -0.0   -0.0   -0.0   -0.0   -0.0    0.0   -0.0   -1.0   -0.0   \n",
      "75%     -0.0    0.0    1.0   -0.0    1.0    0.0    1.0    1.0    2.0    2.0   \n",
      "max     10.0    4.0    2.0    3.0    3.0    4.0    1.0    4.0    2.0    2.0   \n",
      "\n",
      "       PTRATIO      B  LSTAT  \n",
      "count    379.0  379.0  379.0  \n",
      "mean       0.0    0.0   -0.0  \n",
      "std        1.0    1.0    1.0  \n",
      "min       -3.0   -4.0   -1.0  \n",
      "25%       -1.0    0.0   -1.0  \n",
      "50%        0.0    0.0   -0.0  \n",
      "75%        1.0    0.0    1.0  \n",
      "max        2.0    0.0    4.0  \n"
     ]
    },
    {
     "data": {
      "image/png": "[encoded data removed]",
      "text/plain": [
       "<Figure size 432x288 with 2 Axes>"
      ]
     },
     "metadata": {
      "needs_background": "light"
     },
     "output_type": "display_data"
    }
   ],
   "source": [
    "scaler(StandardScaler(),X_train,X_test)"
   ]
  },
  {
   "cell_type": "code",
   "execution_count": 91,
   "id": "f442103f",
   "metadata": {},
   "outputs": [],
   "source": [
    "# STANDARDIZATION\n",
    "# ****************\n",
    "# Centeres Mean to Zero\n",
    "# Scales Variance to One\n",
    "# Value range varies between variables\n",
    "# Preserves shape of the distribution\n",
    "# Preserves Outliers"
   ]
  },
  {
   "cell_type": "markdown",
   "id": "92f44a4d",
   "metadata": {},
   "source": [
    "### MinMax Scaler"
   ]
  },
  {
   "cell_type": "code",
   "execution_count": 83,
   "id": "83119d8a",
   "metadata": {},
   "outputs": [
    {
     "name": "stdout",
     "output_type": "stream",
     "text": [
      "BEFORE SCALING: \n",
      "             CRIM          ZN       INDUS        CHAS         NOX          RM  \\\n",
      "count  506.000000  506.000000  506.000000  506.000000  506.000000  506.000000   \n",
      "mean     3.613524   11.363636   11.136779    0.069170    0.554695    6.284634   \n",
      "std      8.601545   23.322453    6.860353    0.253994    0.115878    0.702617   \n",
      "min      0.006320    0.000000    0.460000    0.000000    0.385000    3.561000   \n",
      "25%      0.082045    0.000000    5.190000    0.000000    0.449000    5.885500   \n",
      "50%      0.256510    0.000000    9.690000    0.000000    0.538000    6.208500   \n",
      "75%      3.677083   12.500000   18.100000    0.000000    0.624000    6.623500   \n",
      "max     88.976200  100.000000   27.740000    1.000000    0.871000    8.780000   \n",
      "\n",
      "              AGE         DIS         RAD         TAX     PTRATIO           B  \\\n",
      "count  506.000000  506.000000  506.000000  506.000000  506.000000  506.000000   \n",
      "mean    68.574901    3.795043    9.549407  408.237154   18.455534  356.674032   \n",
      "std     28.148861    2.105710    8.707259  168.537116    2.164946   91.294864   \n",
      "min      2.900000    1.129600    1.000000  187.000000   12.600000    0.320000   \n",
      "25%     45.025000    2.100175    4.000000  279.000000   17.400000  375.377500   \n",
      "50%     77.500000    3.207450    5.000000  330.000000   19.050000  391.440000   \n",
      "75%     94.075000    5.188425   24.000000  666.000000   20.200000  396.225000   \n",
      "max    100.000000   12.126500   24.000000  711.000000   22.000000  396.900000   \n",
      "\n",
      "            LSTAT  \n",
      "count  506.000000  \n",
      "mean    12.653063  \n",
      "std      7.141062  \n",
      "min      1.730000  \n",
      "25%      6.950000  \n",
      "50%     11.360000  \n",
      "75%     16.955000  \n",
      "max     37.970000  \n",
      "AFTER SCALING: \n",
      "        CRIM     ZN  INDUS   CHAS    NOX     RM    AGE    DIS    RAD    TAX  \\\n",
      "count  379.0  379.0  379.0  379.0  379.0  379.0  379.0  379.0  379.0  379.0   \n",
      "mean     0.0    0.0    0.0    0.0    0.0    0.0    1.0    0.0    0.0    0.0   \n",
      "std      0.0    0.0    0.0    0.0    0.0    0.0    0.0    0.0    0.0    0.0   \n",
      "min      0.0    0.0    0.0    0.0    0.0    0.0    0.0    0.0    0.0    0.0   \n",
      "25%      0.0    0.0    0.0    0.0    0.0    0.0    0.0    0.0    0.0    0.0   \n",
      "50%      0.0    0.0    0.0    0.0    0.0    0.0    1.0    0.0    0.0    0.0   \n",
      "75%      0.0    0.0    1.0    0.0    1.0    1.0    1.0    0.0    1.0    1.0   \n",
      "max      1.0    1.0    1.0    1.0    1.0    1.0    1.0    1.0    1.0    1.0   \n",
      "\n",
      "       PTRATIO      B  LSTAT  \n",
      "count    379.0  379.0  379.0  \n",
      "mean       1.0    1.0    0.0  \n",
      "std        0.0    0.0    0.0  \n",
      "min        0.0    0.0    0.0  \n",
      "25%        0.0    1.0    0.0  \n",
      "50%        1.0    1.0    0.0  \n",
      "75%        1.0    1.0    0.0  \n",
      "max        1.0    1.0    1.0  \n"
     ]
    },
    {
     "data": {
      "image/png": "[encoded data removed]",
      "text/plain": [
       "<Figure size 432x288 with 2 Axes>"
      ]
     },
     "metadata": {
      "needs_background": "light"
     },
     "output_type": "display_data"
    }
   ],
   "source": [
    "scaler(MinMaxScaler(),X_train,X_test)"
   ]
  },
  {
   "cell_type": "code",
   "execution_count": null,
   "id": "37700f10",
   "metadata": {},
   "outputs": [],
   "source": [
    "# # MINMAX SCALER\n",
    "# Mean not centered to zero\n",
    "# Variance varies between variables\n",
    "# Variable value range [0,1] \n",
    "# Shape of the distribution not preserved\n",
    "# Outlier sensitive"
   ]
  },
  {
   "cell_type": "markdown",
   "id": "30ca044b",
   "metadata": {},
   "source": [
    "### MaxAbsolute Scaler"
   ]
  },
  {
   "cell_type": "code",
   "execution_count": 84,
   "id": "c702f1f9",
   "metadata": {},
   "outputs": [
    {
     "name": "stdout",
     "output_type": "stream",
     "text": [
      "BEFORE SCALING: \n",
      "             CRIM          ZN       INDUS        CHAS         NOX          RM  \\\n",
      "count  506.000000  506.000000  506.000000  506.000000  506.000000  506.000000   \n",
      "mean     3.613524   11.363636   11.136779    0.069170    0.554695    6.284634   \n",
      "std      8.601545   23.322453    6.860353    0.253994    0.115878    0.702617   \n",
      "min      0.006320    0.000000    0.460000    0.000000    0.385000    3.561000   \n",
      "25%      0.082045    0.000000    5.190000    0.000000    0.449000    5.885500   \n",
      "50%      0.256510    0.000000    9.690000    0.000000    0.538000    6.208500   \n",
      "75%      3.677083   12.500000   18.100000    0.000000    0.624000    6.623500   \n",
      "max     88.976200  100.000000   27.740000    1.000000    0.871000    8.780000   \n",
      "\n",
      "              AGE         DIS         RAD         TAX     PTRATIO           B  \\\n",
      "count  506.000000  506.000000  506.000000  506.000000  506.000000  506.000000   \n",
      "mean    68.574901    3.795043    9.549407  408.237154   18.455534  356.674032   \n",
      "std     28.148861    2.105710    8.707259  168.537116    2.164946   91.294864   \n",
      "min      2.900000    1.129600    1.000000  187.000000   12.600000    0.320000   \n",
      "25%     45.025000    2.100175    4.000000  279.000000   17.400000  375.377500   \n",
      "50%     77.500000    3.207450    5.000000  330.000000   19.050000  391.440000   \n",
      "75%     94.075000    5.188425   24.000000  666.000000   20.200000  396.225000   \n",
      "max    100.000000   12.126500   24.000000  711.000000   22.000000  396.900000   \n",
      "\n",
      "            LSTAT  \n",
      "count  506.000000  \n",
      "mean    12.653063  \n",
      "std      7.141062  \n",
      "min      1.730000  \n",
      "25%      6.950000  \n",
      "50%     11.360000  \n",
      "75%     16.955000  \n",
      "max     37.970000  \n",
      "AFTER SCALING: \n",
      "        CRIM     ZN  INDUS   CHAS    NOX     RM    AGE    DIS    RAD    TAX  \\\n",
      "count  379.0  379.0  379.0  379.0  379.0  379.0  379.0  379.0  379.0  379.0   \n",
      "mean     0.0    0.0    0.0    0.0    1.0    1.0    1.0    0.0    0.0    1.0   \n",
      "std      0.0    0.0    0.0    0.0    0.0    0.0    0.0    0.0    0.0    0.0   \n",
      "min      0.0    0.0    0.0    0.0    0.0    0.0    0.0    0.0    0.0    0.0   \n",
      "25%      0.0    0.0    0.0    0.0    1.0    1.0    0.0    0.0    0.0    0.0   \n",
      "50%      0.0    0.0    0.0    0.0    1.0    1.0    1.0    0.0    0.0    0.0   \n",
      "75%      0.0    0.0    1.0    0.0    1.0    1.0    1.0    0.0    1.0    1.0   \n",
      "max      1.0    1.0    1.0    1.0    1.0    1.0    1.0    1.0    1.0    1.0   \n",
      "\n",
      "       PTRATIO      B  LSTAT  \n",
      "count    379.0  379.0  379.0  \n",
      "mean       1.0    1.0    0.0  \n",
      "std        0.0    0.0    0.0  \n",
      "min        1.0    0.0    0.0  \n",
      "25%        1.0    1.0    0.0  \n",
      "50%        1.0    1.0    0.0  \n",
      "75%        1.0    1.0    0.0  \n",
      "max        1.0    1.0    1.0  \n"
     ]
    },
    {
     "data": {
      "image/png": "[encoded data removed]",
      "text/plain": [
       "<Figure size 432x288 with 2 Axes>"
      ]
     },
     "metadata": {
      "needs_background": "light"
     },
     "output_type": "display_data"
    }
   ],
   "source": [
    "scaler(MaxAbsScaler(),X_train,X_test)"
   ]
  },
  {
   "cell_type": "code",
   "execution_count": null,
   "id": "2a28f083",
   "metadata": {},
   "outputs": [],
   "source": [
    "# MaxAbScaler\n",
    "#**************\n",
    "# Doesnt center mean to zero\n",
    "# Variance between variables vary\n",
    "# Max value of all variables is set to 1\n",
    "# Distribution shape is not preserved\n",
    "# Sensitive outlier"
   ]
  },
  {
   "cell_type": "markdown",
   "id": "b81e2d6d",
   "metadata": {},
   "source": [
    "### Robust Scaler"
   ]
  },
  {
   "cell_type": "code",
   "execution_count": 85,
   "id": "2c874be2",
   "metadata": {},
   "outputs": [
    {
     "name": "stdout",
     "output_type": "stream",
     "text": [
      "BEFORE SCALING: \n",
      "             CRIM          ZN       INDUS        CHAS         NOX          RM  \\\n",
      "count  506.000000  506.000000  506.000000  506.000000  506.000000  506.000000   \n",
      "mean     3.613524   11.363636   11.136779    0.069170    0.554695    6.284634   \n",
      "std      8.601545   23.322453    6.860353    0.253994    0.115878    0.702617   \n",
      "min      0.006320    0.000000    0.460000    0.000000    0.385000    3.561000   \n",
      "25%      0.082045    0.000000    5.190000    0.000000    0.449000    5.885500   \n",
      "50%      0.256510    0.000000    9.690000    0.000000    0.538000    6.208500   \n",
      "75%      3.677083   12.500000   18.100000    0.000000    0.624000    6.623500   \n",
      "max     88.976200  100.000000   27.740000    1.000000    0.871000    8.780000   \n",
      "\n",
      "              AGE         DIS         RAD         TAX     PTRATIO           B  \\\n",
      "count  506.000000  506.000000  506.000000  506.000000  506.000000  506.000000   \n",
      "mean    68.574901    3.795043    9.549407  408.237154   18.455534  356.674032   \n",
      "std     28.148861    2.105710    8.707259  168.537116    2.164946   91.294864   \n",
      "min      2.900000    1.129600    1.000000  187.000000   12.600000    0.320000   \n",
      "25%     45.025000    2.100175    4.000000  279.000000   17.400000  375.377500   \n",
      "50%     77.500000    3.207450    5.000000  330.000000   19.050000  391.440000   \n",
      "75%     94.075000    5.188425   24.000000  666.000000   20.200000  396.225000   \n",
      "max    100.000000   12.126500   24.000000  711.000000   22.000000  396.900000   \n",
      "\n",
      "            LSTAT  \n",
      "count  506.000000  \n",
      "mean    12.653063  \n",
      "std      7.141062  \n",
      "min      1.730000  \n",
      "25%      6.950000  \n",
      "50%     11.360000  \n",
      "75%     16.955000  \n",
      "max     37.970000  \n",
      "AFTER SCALING: \n",
      "        CRIM     ZN  INDUS   CHAS    NOX     RM    AGE    DIS    RAD    TAX  \\\n",
      "count  379.0  379.0  379.0  379.0  379.0  379.0  379.0  379.0  379.0  379.0   \n",
      "mean     1.0    1.0    0.0    0.0    0.0    0.0   -0.0    0.0    0.0    0.0   \n",
      "std      3.0    2.0    1.0    0.0    1.0    1.0    1.0    1.0    0.0    0.0   \n",
      "min     -0.0    0.0   -1.0    0.0   -1.0   -3.0   -1.0   -1.0   -0.0   -0.0   \n",
      "25%     -0.0    0.0   -0.0    0.0   -0.0   -0.0   -1.0   -0.0   -0.0   -0.0   \n",
      "50%      0.0    0.0    0.0    0.0    0.0    0.0    0.0    0.0    0.0    0.0   \n",
      "75%      1.0    1.0    1.0    0.0    1.0    1.0    0.0    1.0    1.0    1.0   \n",
      "max     25.0    8.0    1.0    1.0    2.0    4.0    0.0    3.0    1.0    1.0   \n",
      "\n",
      "       PTRATIO      B  LSTAT  \n",
      "count    379.0  379.0  379.0  \n",
      "mean      -0.0   -2.0    0.0  \n",
      "std        1.0    4.0    1.0  \n",
      "min       -2.0  -18.0   -1.0  \n",
      "25%       -1.0   -1.0   -0.0  \n",
      "50%        0.0    0.0    0.0  \n",
      "75%        0.0    0.0    1.0  \n",
      "max        1.0    0.0    3.0  \n"
     ]
    },
    {
     "data": {
      "image/png": "[encoded data removed]",
      "text/plain": [
       "<Figure size 432x288 with 2 Axes>"
      ]
     },
     "metadata": {
      "needs_background": "light"
     },
     "output_type": "display_data"
    }
   ],
   "source": [
    "scaler(RobustScaler(),X_train,X_test)"
   ]
  },
  {
   "cell_type": "code",
   "execution_count": null,
   "id": "744a165a",
   "metadata": {},
   "outputs": [],
   "source": [
    "# # ROBUST SCALER\n",
    "# ********************\n",
    "# Doesnt center the median to zero\n",
    "# Variances between variables vary\n",
    "# Outliers are ROBUST.\n",
    "# Shape of the distribution not preserved\n",
    "# Value range varies between variables"
   ]
  },
  {
   "cell_type": "markdown",
   "id": "fc7be17c",
   "metadata": {},
   "source": [
    "### Scaling to Unit length"
   ]
  },
  {
   "cell_type": "code",
   "execution_count": 93,
   "id": "4e03261e",
   "metadata": {},
   "outputs": [
    {
     "name": "stdout",
     "output_type": "stream",
     "text": [
      "BEFORE SCALING: \n",
      "             CRIM          ZN       INDUS        CHAS         NOX          RM  \\\n",
      "count  506.000000  506.000000  506.000000  506.000000  506.000000  506.000000   \n",
      "mean     3.613524   11.363636   11.136779    0.069170    0.554695    6.284634   \n",
      "std      8.601545   23.322453    6.860353    0.253994    0.115878    0.702617   \n",
      "min      0.006320    0.000000    0.460000    0.000000    0.385000    3.561000   \n",
      "25%      0.082045    0.000000    5.190000    0.000000    0.449000    5.885500   \n",
      "50%      0.256510    0.000000    9.690000    0.000000    0.538000    6.208500   \n",
      "75%      3.677083   12.500000   18.100000    0.000000    0.624000    6.623500   \n",
      "max     88.976200  100.000000   27.740000    1.000000    0.871000    8.780000   \n",
      "\n",
      "              AGE         DIS         RAD         TAX     PTRATIO           B  \\\n",
      "count  506.000000  506.000000  506.000000  506.000000  506.000000  506.000000   \n",
      "mean    68.574901    3.795043    9.549407  408.237154   18.455534  356.674032   \n",
      "std     28.148861    2.105710    8.707259  168.537116    2.164946   91.294864   \n",
      "min      2.900000    1.129600    1.000000  187.000000   12.600000    0.320000   \n",
      "25%     45.025000    2.100175    4.000000  279.000000   17.400000  375.377500   \n",
      "50%     77.500000    3.207450    5.000000  330.000000   19.050000  391.440000   \n",
      "75%     94.075000    5.188425   24.000000  666.000000   20.200000  396.225000   \n",
      "max    100.000000   12.126500   24.000000  711.000000   22.000000  396.900000   \n",
      "\n",
      "            LSTAT  \n",
      "count  506.000000  \n",
      "mean    12.653063  \n",
      "std      7.141062  \n",
      "min      1.730000  \n",
      "25%      6.950000  \n",
      "50%     11.360000  \n",
      "75%     16.955000  \n",
      "max     37.970000  \n",
      "AFTER SCALING: \n",
      "        CRIM     ZN  INDUS   CHAS    NOX     RM    AGE    DIS    RAD    TAX  \\\n",
      "count  379.0  379.0  379.0  379.0  379.0  379.0  379.0  379.0  379.0  379.0   \n",
      "mean     0.0    0.0    0.0    0.0    0.0    0.0    0.0    0.0    0.0    0.0   \n",
      "std      0.0    0.0    0.0    0.0    0.0    0.0    0.0    0.0    0.0    0.0   \n",
      "min      0.0    0.0    0.0    0.0    0.0    0.0    0.0    0.0    0.0    0.0   \n",
      "25%      0.0    0.0    0.0    0.0    0.0    0.0    0.0    0.0    0.0    0.0   \n",
      "50%      0.0    0.0    0.0    0.0    0.0    0.0    0.0    0.0    0.0    0.0   \n",
      "75%      0.0    0.0    0.0    0.0    0.0    0.0    0.0    0.0    0.0    1.0   \n",
      "max      0.0    0.0    0.0    0.0    0.0    0.0    0.0    0.0    0.0    1.0   \n",
      "\n",
      "       PTRATIO      B  LSTAT  \n",
      "count    379.0  379.0  379.0  \n",
      "mean       0.0    0.0    0.0  \n",
      "std        0.0    0.0    0.0  \n",
      "min        0.0    0.0    0.0  \n",
      "25%        0.0    0.0    0.0  \n",
      "50%        0.0    0.0    0.0  \n",
      "75%        0.0    0.0    0.0  \n",
      "max        0.0    1.0    0.0  \n"
     ]
    },
    {
     "data": {
      "image/png": "[encoded data removed]",
      "text/plain": [
       "<Figure size 432x288 with 2 Axes>"
      ]
     },
     "metadata": {
      "needs_background": "light"
     },
     "output_type": "display_data"
    }
   ],
   "source": [
    "scaler(Normalizer(norm='l1'),X_train,X_test) #Manhattan distance based scaling\n",
    "\n",
    "#Used mainly in Text classification/ Clustering"
   ]
  },
  {
   "cell_type": "code",
   "execution_count": 87,
   "id": "4b65e6f3",
   "metadata": {},
   "outputs": [
    {
     "name": "stdout",
     "output_type": "stream",
     "text": [
      "BEFORE SCALING: \n",
      "             CRIM          ZN       INDUS        CHAS         NOX          RM  \\\n",
      "count  506.000000  506.000000  506.000000  506.000000  506.000000  506.000000   \n",
      "mean     3.613524   11.363636   11.136779    0.069170    0.554695    6.284634   \n",
      "std      8.601545   23.322453    6.860353    0.253994    0.115878    0.702617   \n",
      "min      0.006320    0.000000    0.460000    0.000000    0.385000    3.561000   \n",
      "25%      0.082045    0.000000    5.190000    0.000000    0.449000    5.885500   \n",
      "50%      0.256510    0.000000    9.690000    0.000000    0.538000    6.208500   \n",
      "75%      3.677083   12.500000   18.100000    0.000000    0.624000    6.623500   \n",
      "max     88.976200  100.000000   27.740000    1.000000    0.871000    8.780000   \n",
      "\n",
      "              AGE         DIS         RAD         TAX     PTRATIO           B  \\\n",
      "count  506.000000  506.000000  506.000000  506.000000  506.000000  506.000000   \n",
      "mean    68.574901    3.795043    9.549407  408.237154   18.455534  356.674032   \n",
      "std     28.148861    2.105710    8.707259  168.537116    2.164946   91.294864   \n",
      "min      2.900000    1.129600    1.000000  187.000000   12.600000    0.320000   \n",
      "25%     45.025000    2.100175    4.000000  279.000000   17.400000  375.377500   \n",
      "50%     77.500000    3.207450    5.000000  330.000000   19.050000  391.440000   \n",
      "75%     94.075000    5.188425   24.000000  666.000000   20.200000  396.225000   \n",
      "max    100.000000   12.126500   24.000000  711.000000   22.000000  396.900000   \n",
      "\n",
      "            LSTAT  \n",
      "count  506.000000  \n",
      "mean    12.653063  \n",
      "std      7.141062  \n",
      "min      1.730000  \n",
      "25%      6.950000  \n",
      "50%     11.360000  \n",
      "75%     16.955000  \n",
      "max     37.970000  \n",
      "AFTER SCALING: \n",
      "        CRIM     ZN  INDUS   CHAS    NOX     RM    AGE    DIS    RAD    TAX  \\\n",
      "count  379.0  379.0  379.0  379.0  379.0  379.0  379.0  379.0  379.0  379.0   \n",
      "mean     0.0    0.0    0.0    0.0    0.0    0.0    0.0    0.0    0.0    1.0   \n",
      "std      0.0    0.0    0.0    0.0    0.0    0.0    0.0    0.0    0.0    0.0   \n",
      "min      0.0    0.0    0.0    0.0    0.0    0.0    0.0    0.0    0.0    0.0   \n",
      "25%      0.0    0.0    0.0    0.0    0.0    0.0    0.0    0.0    0.0    1.0   \n",
      "50%      0.0    0.0    0.0    0.0    0.0    0.0    0.0    0.0    0.0    1.0   \n",
      "75%      0.0    0.0    0.0    0.0    0.0    0.0    0.0    0.0    0.0    1.0   \n",
      "max      0.0    0.0    0.0    0.0    0.0    0.0    0.0    0.0    0.0    1.0   \n",
      "\n",
      "       PTRATIO      B  LSTAT  \n",
      "count    379.0  379.0  379.0  \n",
      "mean       0.0    1.0    0.0  \n",
      "std        0.0    0.0    0.0  \n",
      "min        0.0    0.0    0.0  \n",
      "25%        0.0    1.0    0.0  \n",
      "50%        0.0    1.0    0.0  \n",
      "75%        0.0    1.0    0.0  \n",
      "max        0.0    1.0    0.0  \n"
     ]
    },
    {
     "data": {
      "image/png": "[encoded data removed]",
      "text/plain": [
       "<Figure size 432x288 with 2 Axes>"
      ]
     },
     "metadata": {
      "needs_background": "light"
     },
     "output_type": "display_data"
    }
   ],
   "source": [
    "scaler(Normalizer(norm='l2'),X_train,X_test) #Euclidena distance based scaling"
   ]
  },
  {
   "cell_type": "markdown",
   "id": "15404789",
   "metadata": {},
   "source": [
    "### Mean Normalization scaling"
   ]
  },
  {
   "cell_type": "code",
   "execution_count": 92,
   "id": "68def844",
   "metadata": {},
   "outputs": [
    {
     "name": "stdout",
     "output_type": "stream",
     "text": [
      "BEFORE SCALING: \n",
      "        CRIM     ZN  INDUS   CHAS    NOX     RM    AGE    DIS    RAD    TAX  \\\n",
      "count  379.0  379.0  379.0  379.0  379.0  379.0  379.0  379.0  379.0  379.0   \n",
      "mean     4.0   11.0   11.0    0.0    1.0    6.0   69.0    4.0   10.0  411.0   \n",
      "std      9.0   23.0    7.0    0.0    0.0    1.0   28.0    2.0    9.0  169.0   \n",
      "min      0.0    0.0    0.0    0.0    0.0    4.0    6.0    1.0    1.0  187.0   \n",
      "25%      0.0    0.0    5.0    0.0    0.0    6.0   46.0    2.0    4.0  280.0   \n",
      "50%      0.0    0.0   10.0    0.0    1.0    6.0   78.0    3.0    5.0  334.0   \n",
      "75%      4.0   12.0   18.0    0.0    1.0    7.0   94.0    5.0   24.0  666.0   \n",
      "max     89.0  100.0   28.0    1.0    1.0    9.0  100.0   12.0   24.0  711.0   \n",
      "\n",
      "       PTRATIO      B  LSTAT  \n",
      "count    379.0  379.0  379.0  \n",
      "mean      18.0  358.0   13.0  \n",
      "std        2.0   87.0    7.0  \n",
      "min       13.0    0.0    2.0  \n",
      "25%       17.0  375.0    7.0  \n",
      "50%       19.0  392.0   12.0  \n",
      "75%       20.0  396.0   17.0  \n",
      "max       22.0  397.0   38.0  \n",
      "AFTER SCALING: \n",
      "        CRIM     ZN  INDUS   CHAS    NOX     RM    AGE    DIS    RAD    TAX  \\\n",
      "count  379.0  379.0  379.0  379.0  379.0  379.0  379.0  379.0  379.0  379.0   \n",
      "mean    -0.0   -0.0    0.0    0.0   -0.0   -0.0    0.0   -0.0    0.0   -0.0   \n",
      "std      0.0    0.0    0.0    0.0    0.0    0.0    0.0    0.0    0.0    0.0   \n",
      "min     -0.0   -0.0   -0.0   -0.0   -0.0   -0.0   -1.0   -0.0   -0.0   -0.0   \n",
      "25%     -0.0   -0.0   -0.0   -0.0   -0.0   -0.0   -0.0   -0.0   -0.0   -0.0   \n",
      "50%     -0.0   -0.0   -0.0   -0.0   -0.0   -0.0    0.0   -0.0   -0.0   -0.0   \n",
      "75%     -0.0    0.0    0.0   -0.0    0.0    0.0    0.0    0.0    1.0    0.0   \n",
      "max      1.0    1.0    1.0    1.0    1.0    1.0    0.0    1.0    1.0    1.0   \n",
      "\n",
      "       PTRATIO      B  LSTAT  \n",
      "count    379.0  379.0  379.0  \n",
      "mean       0.0    0.0   -0.0  \n",
      "std        0.0    0.0    0.0  \n",
      "min       -1.0   -1.0   -0.0  \n",
      "25%       -0.0    0.0   -0.0  \n",
      "50%        0.0    0.0   -0.0  \n",
      "75%        0.0    0.0    0.0  \n",
      "max        0.0    0.0    1.0  \n"
     ]
    },
    {
     "name": "stderr",
     "output_type": "stream",
     "text": [
      "C:\\Users\\prave\\anaconda3\\envs\\tf2.4\\lib\\site-packages\\sklearn\\base.py:450: UserWarning: X does not have valid feature names, but RobustScaler was fitted with feature names\n",
      "  warnings.warn(\n"
     ]
    },
    {
     "data": {
      "text/plain": [
       "<AxesSubplot:title={'center':'After Scaling'}, xlabel='TAX', ylabel='Density'>"
      ]
     },
     "execution_count": 92,
     "metadata": {},
     "output_type": "execute_result"
    },
    {
     "data": {
      "image/png": "[encoded data removed]",
      "text/plain": [
       "<Figure size 432x288 with 2 Axes>"
      ]
     },
     "metadata": {
      "needs_background": "light"
     },
     "output_type": "display_data"
    }
   ],
   "source": [
    "sc=StandardScaler(with_mean=True,with_std=False) #For numerator\n",
    "rc=RobustScaler(with_scaling=True,with_centering=False,quantile_range=[0,100]) #For denominator\n",
    "\n",
    "print(f\"BEFORE SCALING: \\n{np.round(pd.DataFrame(X_train,columns=df.columns).describe())}\")\n",
    "\n",
    "sc.fit(X_train)\n",
    "rc.fit(X_train)\n",
    "\n",
    "scaled_df=pd.DataFrame(rc.transform(sc.transform(X_train)),columns=df.columns)\n",
    "\n",
    "print(f\"AFTER SCALING: \\n{np.round(scaled_df.describe())}\")\n",
    "\n",
    "fig,(ax1,ax2)=plt.subplots(ncols=2)\n",
    "\n",
    "ax1.set_title('Before Scaling')\n",
    "sns.kdeplot(df['TAX'],ax=ax1)\n",
    "sns.kdeplot(df['AGE'],ax=ax1)\n",
    "sns.kdeplot(df['CHAS'],ax=ax1)\n",
    "\n",
    "ax2.set_title('After Scaling')\n",
    "sns.kdeplot(scaled_df['TAX'],ax=ax2)\n",
    "sns.kdeplot(scaled_df['AGE'],ax=ax2)\n",
    "sns.kdeplot(scaled_df['CHAS'],ax=ax2)\n"
   ]
  },
  {
   "cell_type": "code",
   "execution_count": null,
   "id": "b6233be2",
   "metadata": {},
   "outputs": [],
   "source": [
    "# # MEAN NORMALIZATION\n",
    "# Centers mean to zero\n",
    "# Variance varies between variables\n",
    "# Value ranges [-1,1]\n",
    "# Distribution shape is not preserved\n",
    "# Outliers are preserved"
   ]
  }
 ],
 "metadata": {
  "kernelspec": {
   "display_name": "Python 3",
   "language": "python",
   "name": "python3"
  },
  "language_info": {
   "codemirror_mode": {
    "name": "ipython",
    "version": 3
   },
   "file_extension": ".py",
   "mimetype": "text/x-python",
   "name": "python",
   "nbconvert_exporter": "python",
   "pygments_lexer": "ipython3",
   "version": "3.8.0"
  }
 },
 "nbformat": 4,
 "nbformat_minor": 5
}
