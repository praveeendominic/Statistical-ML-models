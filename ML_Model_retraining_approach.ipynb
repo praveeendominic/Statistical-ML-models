{
  "nbformat": 4,
  "nbformat_minor": 0,
  "metadata": {
    "colab": {
      "provenance": [],
      "collapsed_sections": []
    },
    "kernelspec": {
      "name": "python3",
      "display_name": "Python 3"
    },
    "language_info": {
      "name": "python"
    }
  },
  "cells": [
    {
      "cell_type": "code",
      "execution_count": null,
      "metadata": {
        "colab": {
          "base_uri": "https://localhost:8080/"
        },
        "id": "D6fjTDOrwayZ",
        "outputId": "50a62717-e5d0-4551-f2b0-330a18d793ab"
      },
      "outputs": [
        {
          "output_type": "stream",
          "name": "stdout",
          "text": [
            "Looking in indexes: https://pypi.org/simple, https://us-python.pkg.dev/colab-wheels/public/simple/\n",
            "Collecting creme\n",
            "  Downloading creme-0.6.1-cp37-cp37m-manylinux2010_x86_64.whl (1.1 MB)\n",
            "\u001b[K     |████████████████████████████████| 1.1 MB 5.5 MB/s \n",
            "\u001b[?25hRequirement already satisfied: numpy>=1.18.1 in /usr/local/lib/python3.7/dist-packages (from creme) (1.21.6)\n",
            "Requirement already satisfied: scipy>=1.4.1 in /usr/local/lib/python3.7/dist-packages (from creme) (1.4.1)\n",
            "Collecting mmh3==2.5.1\n",
            "  Downloading mmh3-2.5.1.tar.gz (9.8 kB)\n",
            "Requirement already satisfied: pandas>=1.0.1 in /usr/local/lib/python3.7/dist-packages (from creme) (1.3.5)\n",
            "Requirement already satisfied: python-dateutil>=2.7.3 in /usr/local/lib/python3.7/dist-packages (from pandas>=1.0.1->creme) (2.8.2)\n",
            "Requirement already satisfied: pytz>=2017.3 in /usr/local/lib/python3.7/dist-packages (from pandas>=1.0.1->creme) (2022.1)\n",
            "Requirement already satisfied: six>=1.5 in /usr/local/lib/python3.7/dist-packages (from python-dateutil>=2.7.3->pandas>=1.0.1->creme) (1.15.0)\n",
            "Building wheels for collected packages: mmh3\n",
            "  Building wheel for mmh3 (setup.py) ... \u001b[?25l\u001b[?25hdone\n",
            "  Created wheel for mmh3: filename=mmh3-2.5.1-cp37-cp37m-linux_x86_64.whl size=39674 sha256=6360e8a955965d3e3a63f8913a628c56db681bb1c6ec19a495a1517d4143e704\n",
            "  Stored in directory: /root/.cache/pip/wheels/ae/45/25/90e097a519143b2dca74cd93a056894a965f27908103e01799\n",
            "Successfully built mmh3\n",
            "Installing collected packages: mmh3, creme\n",
            "Successfully installed creme-0.6.1 mmh3-2.5.1\n"
          ]
        }
      ],
      "source": [
        "#Model retraining/ Increamental model training\n",
        "#The idea is to increamentally train a ML model using Creme library. This kind of model retraining can be used when training data gets generated in streams.\n",
        "#DATASET USED: SMS Spam Collection Data Set (Source: https://archive.ics.uci.edu/ml/datasets/sms+spam+collection)\n",
        "\n",
        "!pip install creme"
      ]
    },
    {
      "cell_type": "code",
      "source": [
        "import creme\n",
        "from creme import feature_extraction, naive_bayes, compose"
      ],
      "metadata": {
        "id": "AH6wEPIzwivp"
      },
      "execution_count": null,
      "outputs": []
    },
    {
      "cell_type": "code",
      "source": [
        "# model=compose.Pipeline('tokenize',feature_extraction.TFIDF(lowercase=False),\n",
        "#                  'nb',naive_bayes.MultinomialNB(alpha=1))\n",
        "\n",
        "\n",
        "model = compose.Pipeline(\n",
        "    ('tokenize', feature_extraction.TFIDF(lowercase=False)),\n",
        "    ('nb', naive_bayes.MultinomialNB(alpha=1))\n",
        ")"
      ],
      "metadata": {
        "id": "DEeZWIA6wtkn"
      },
      "execution_count": null,
      "outputs": []
    },
    {
      "cell_type": "code",
      "source": [
        "import pandas as pd\n",
        "import numpy as np"
      ],
      "metadata": {
        "id": "3oA_FDvCxDRF"
      },
      "execution_count": null,
      "outputs": []
    },
    {
      "cell_type": "code",
      "source": [
        "df=pd.read_csv('/content/drive/MyDrive/SMSSpamCollection',names=['label','txt'],sep='\\t')#read data"
      ],
      "metadata": {
        "id": "WV3N83dtxQDi"
      },
      "execution_count": null,
      "outputs": []
    },
    {
      "cell_type": "code",
      "source": [
        "#split it into training and test data\n",
        "from sklearn.model_selection import train_test_split\n",
        "train,test=train_test_split(df,test_size=0.2)"
      ],
      "metadata": {
        "id": "It_rxGZBxZCy"
      },
      "execution_count": null,
      "outputs": []
    },
    {
      "cell_type": "code",
      "source": [
        "# convert dataframe into creme understandable list of tupules\n",
        "train, test=train.to_records(index=False), test.to_records(index=False)"
      ],
      "metadata": {
        "id": "FYpSxlVex41B"
      },
      "execution_count": null,
      "outputs": []
    },
    {
      "cell_type": "code",
      "source": [
        "train"
      ],
      "metadata": {
        "colab": {
          "base_uri": "https://localhost:8080/"
        },
        "id": "HtDDK94CyKOK",
        "outputId": "5f18fcf2-0445-4560-c061-c47f5ee5187b"
      },
      "execution_count": null,
      "outputs": [
        {
          "output_type": "execute_result",
          "data": {
            "text/plain": [
              "rec.array([('ham', 'Come aftr  &lt;DECIMAL&gt; ..now i m cleaning the house'),\n",
              "           ('spam', 'For sale - arsenal dartboard. Good condition but no doubles or trebles!'),\n",
              "           ('ham', \"Y she dun believe leh? I tot i told her it's true already. I thk she muz c us tog then she believe.\"),\n",
              "           ..., ('ham', 'Ok then u tell me wat time u coming later lor.'),\n",
              "           ('spam', 'U have a secret admirer. REVEAL who thinks U R So special. Call 09065174042. To opt out Reply REVEAL STOP. 1.50 per msg recd. Cust care 07821230901'),\n",
              "           ('ham', \"Our Prashanthettan's mother passed away last night. pray for her and family.\")],\n",
              "          dtype=[('label', 'O'), ('txt', 'O')])"
            ]
          },
          "metadata": {},
          "execution_count": 26
        }
      ]
    },
    {
      "cell_type": "code",
      "source": [
        "from creme import metrics\n",
        "import math\n",
        "from creme import metrics\n",
        "score=metrics.Accuracy()\n",
        "for label, txt in train: #Train data accuracy score\n",
        "  model=model.fit_one(txt,label)\n",
        "  y_pred=model.predict_one(txt)\n",
        "  score=score.update(label,y_pred)\n",
        "print(score)"
      ],
      "metadata": {
        "colab": {
          "base_uri": "https://localhost:8080/"
        },
        "id": "RXGoUl1uyezH",
        "outputId": "de7020ce-6d1b-4996-8d83-3797a88131d8"
      },
      "execution_count": null,
      "outputs": [
        {
          "output_type": "stream",
          "name": "stdout",
          "text": [
            "Accuracy: 98.68%\n"
          ]
        }
      ]
    },
    {
      "cell_type": "code",
      "source": [
        "for label, txt in test:#Test data accuracy score\n",
        "  y_pred=model.predict_one(txt)\n",
        "  score=score.update(label,y_pred)\n",
        "print(score)"
      ],
      "metadata": {
        "colab": {
          "base_uri": "https://localhost:8080/"
        },
        "id": "cwJlajRozImZ",
        "outputId": "2231ea3a-91e9-45d0-ed86-175db14fe710"
      },
      "execution_count": null,
      "outputs": [
        {
          "output_type": "stream",
          "name": "stdout",
          "text": [
            "Accuracy: 98.46%\n"
          ]
        }
      ]
    },
    {
      "cell_type": "code",
      "source": [
        "#Train the model now with a completely new cateogry added apart from 'ham','spam' labels, just to show that the model can be trained on the go\n",
        "\n",
        "for i in range(100): #This loop is just to ensure that enough number of cases are added to match with existing 'ham','spam' records that have approximately more than 5000+ records\n",
        "  model.fit_one('domu domu chris','test')\n",
        "  model.fit_one('chris domu chris','test')"
      ],
      "metadata": {
        "id": "Y4rYuDWBed5M"
      },
      "execution_count": null,
      "outputs": []
    },
    {
      "cell_type": "code",
      "source": [
        "# Now predict for the newly added category\n",
        "model.predict_one('domu domu dominic just to check')"
      ],
      "metadata": {
        "colab": {
          "base_uri": "https://localhost:8080/",
          "height": 35
        },
        "id": "VOn57Dfae6D7",
        "outputId": "b2ff642a-42c9-4242-aab1-9b0f0f05cf64"
      },
      "execution_count": null,
      "outputs": [
        {
          "output_type": "execute_result",
          "data": {
            "text/plain": [
              "'test'"
            ],
            "application/vnd.google.colaboratory.intrinsic+json": {
              "type": "string"
            }
          },
          "metadata": {},
          "execution_count": 42
        }
      ]
    },
    {
      "cell_type": "code",
      "source": [],
      "metadata": {
        "id": "H4b9t6qNfXTf"
      },
      "execution_count": null,
      "outputs": []
    }
  ]
}