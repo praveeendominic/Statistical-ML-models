{
 "cells": [
  {
   "cell_type": "code",
   "execution_count": 1,
   "id": "3996327d",
   "metadata": {},
   "outputs": [],
   "source": [
    "import pandas as pd\n",
    "import numpy as np\n",
    "import matplotlib.pyplot as plt\n",
    "import seaborn as sns"
   ]
  },
  {
   "cell_type": "code",
   "execution_count": 11,
   "id": "f780c7ac",
   "metadata": {},
   "outputs": [
    {
     "data": {
      "text/html": [
       "<div>\n",
       "<style scoped>\n",
       "    .dataframe tbody tr th:only-of-type {\n",
       "        vertical-align: middle;\n",
       "    }\n",
       "\n",
       "    .dataframe tbody tr th {\n",
       "        vertical-align: top;\n",
       "    }\n",
       "\n",
       "    .dataframe thead th {\n",
       "        text-align: right;\n",
       "    }\n",
       "</style>\n",
       "<table border=\"1\" class=\"dataframe\">\n",
       "  <thead>\n",
       "    <tr style=\"text-align: right;\">\n",
       "      <th></th>\n",
       "      <th>var3</th>\n",
       "      <th>var15</th>\n",
       "      <th>imp_ent_var16_ult1</th>\n",
       "      <th>imp_op_var39_comer_ult1</th>\n",
       "      <th>imp_op_var39_comer_ult3</th>\n",
       "      <th>imp_op_var40_comer_ult1</th>\n",
       "      <th>imp_op_var40_comer_ult3</th>\n",
       "      <th>imp_op_var40_efect_ult1</th>\n",
       "      <th>imp_op_var40_efect_ult3</th>\n",
       "      <th>imp_op_var40_ult1</th>\n",
       "      <th>...</th>\n",
       "      <th>saldo_medio_var33_hace2</th>\n",
       "      <th>saldo_medio_var33_hace3</th>\n",
       "      <th>saldo_medio_var33_ult1</th>\n",
       "      <th>saldo_medio_var33_ult3</th>\n",
       "      <th>saldo_medio_var44_hace2</th>\n",
       "      <th>saldo_medio_var44_hace3</th>\n",
       "      <th>saldo_medio_var44_ult1</th>\n",
       "      <th>saldo_medio_var44_ult3</th>\n",
       "      <th>var38</th>\n",
       "      <th>TARGET</th>\n",
       "    </tr>\n",
       "    <tr>\n",
       "      <th>ID</th>\n",
       "      <th></th>\n",
       "      <th></th>\n",
       "      <th></th>\n",
       "      <th></th>\n",
       "      <th></th>\n",
       "      <th></th>\n",
       "      <th></th>\n",
       "      <th></th>\n",
       "      <th></th>\n",
       "      <th></th>\n",
       "      <th></th>\n",
       "      <th></th>\n",
       "      <th></th>\n",
       "      <th></th>\n",
       "      <th></th>\n",
       "      <th></th>\n",
       "      <th></th>\n",
       "      <th></th>\n",
       "      <th></th>\n",
       "      <th></th>\n",
       "      <th></th>\n",
       "    </tr>\n",
       "  </thead>\n",
       "  <tbody>\n",
       "    <tr>\n",
       "      <th>1</th>\n",
       "      <td>2</td>\n",
       "      <td>23</td>\n",
       "      <td>0.0</td>\n",
       "      <td>0.0</td>\n",
       "      <td>0.0</td>\n",
       "      <td>0.0</td>\n",
       "      <td>0.0</td>\n",
       "      <td>0</td>\n",
       "      <td>0</td>\n",
       "      <td>0.0</td>\n",
       "      <td>...</td>\n",
       "      <td>0.0</td>\n",
       "      <td>0.0</td>\n",
       "      <td>0.0</td>\n",
       "      <td>0.0</td>\n",
       "      <td>0.0</td>\n",
       "      <td>0.0</td>\n",
       "      <td>0.0</td>\n",
       "      <td>0.0</td>\n",
       "      <td>39205.170000</td>\n",
       "      <td>0</td>\n",
       "    </tr>\n",
       "    <tr>\n",
       "      <th>3</th>\n",
       "      <td>2</td>\n",
       "      <td>34</td>\n",
       "      <td>0.0</td>\n",
       "      <td>0.0</td>\n",
       "      <td>0.0</td>\n",
       "      <td>0.0</td>\n",
       "      <td>0.0</td>\n",
       "      <td>0</td>\n",
       "      <td>0</td>\n",
       "      <td>0.0</td>\n",
       "      <td>...</td>\n",
       "      <td>0.0</td>\n",
       "      <td>0.0</td>\n",
       "      <td>0.0</td>\n",
       "      <td>0.0</td>\n",
       "      <td>0.0</td>\n",
       "      <td>0.0</td>\n",
       "      <td>0.0</td>\n",
       "      <td>0.0</td>\n",
       "      <td>49278.030000</td>\n",
       "      <td>0</td>\n",
       "    </tr>\n",
       "    <tr>\n",
       "      <th>4</th>\n",
       "      <td>2</td>\n",
       "      <td>23</td>\n",
       "      <td>0.0</td>\n",
       "      <td>0.0</td>\n",
       "      <td>0.0</td>\n",
       "      <td>0.0</td>\n",
       "      <td>0.0</td>\n",
       "      <td>0</td>\n",
       "      <td>0</td>\n",
       "      <td>0.0</td>\n",
       "      <td>...</td>\n",
       "      <td>0.0</td>\n",
       "      <td>0.0</td>\n",
       "      <td>0.0</td>\n",
       "      <td>0.0</td>\n",
       "      <td>0.0</td>\n",
       "      <td>0.0</td>\n",
       "      <td>0.0</td>\n",
       "      <td>0.0</td>\n",
       "      <td>67333.770000</td>\n",
       "      <td>0</td>\n",
       "    </tr>\n",
       "    <tr>\n",
       "      <th>8</th>\n",
       "      <td>2</td>\n",
       "      <td>37</td>\n",
       "      <td>0.0</td>\n",
       "      <td>195.0</td>\n",
       "      <td>195.0</td>\n",
       "      <td>0.0</td>\n",
       "      <td>0.0</td>\n",
       "      <td>0</td>\n",
       "      <td>0</td>\n",
       "      <td>0.0</td>\n",
       "      <td>...</td>\n",
       "      <td>0.0</td>\n",
       "      <td>0.0</td>\n",
       "      <td>0.0</td>\n",
       "      <td>0.0</td>\n",
       "      <td>0.0</td>\n",
       "      <td>0.0</td>\n",
       "      <td>0.0</td>\n",
       "      <td>0.0</td>\n",
       "      <td>64007.970000</td>\n",
       "      <td>0</td>\n",
       "    </tr>\n",
       "    <tr>\n",
       "      <th>10</th>\n",
       "      <td>2</td>\n",
       "      <td>39</td>\n",
       "      <td>0.0</td>\n",
       "      <td>0.0</td>\n",
       "      <td>0.0</td>\n",
       "      <td>0.0</td>\n",
       "      <td>0.0</td>\n",
       "      <td>0</td>\n",
       "      <td>0</td>\n",
       "      <td>0.0</td>\n",
       "      <td>...</td>\n",
       "      <td>0.0</td>\n",
       "      <td>0.0</td>\n",
       "      <td>0.0</td>\n",
       "      <td>0.0</td>\n",
       "      <td>0.0</td>\n",
       "      <td>0.0</td>\n",
       "      <td>0.0</td>\n",
       "      <td>0.0</td>\n",
       "      <td>117310.979016</td>\n",
       "      <td>0</td>\n",
       "    </tr>\n",
       "  </tbody>\n",
       "</table>\n",
       "<p>5 rows × 370 columns</p>\n",
       "</div>"
      ],
      "text/plain": [
       "    var3  var15  imp_ent_var16_ult1  imp_op_var39_comer_ult1  \\\n",
       "ID                                                             \n",
       "1      2     23                 0.0                      0.0   \n",
       "3      2     34                 0.0                      0.0   \n",
       "4      2     23                 0.0                      0.0   \n",
       "8      2     37                 0.0                    195.0   \n",
       "10     2     39                 0.0                      0.0   \n",
       "\n",
       "    imp_op_var39_comer_ult3  imp_op_var40_comer_ult1  imp_op_var40_comer_ult3  \\\n",
       "ID                                                                              \n",
       "1                       0.0                      0.0                      0.0   \n",
       "3                       0.0                      0.0                      0.0   \n",
       "4                       0.0                      0.0                      0.0   \n",
       "8                     195.0                      0.0                      0.0   \n",
       "10                      0.0                      0.0                      0.0   \n",
       "\n",
       "    imp_op_var40_efect_ult1  imp_op_var40_efect_ult3  imp_op_var40_ult1  ...  \\\n",
       "ID                                                                       ...   \n",
       "1                         0                        0                0.0  ...   \n",
       "3                         0                        0                0.0  ...   \n",
       "4                         0                        0                0.0  ...   \n",
       "8                         0                        0                0.0  ...   \n",
       "10                        0                        0                0.0  ...   \n",
       "\n",
       "    saldo_medio_var33_hace2  saldo_medio_var33_hace3  saldo_medio_var33_ult1  \\\n",
       "ID                                                                             \n",
       "1                       0.0                      0.0                     0.0   \n",
       "3                       0.0                      0.0                     0.0   \n",
       "4                       0.0                      0.0                     0.0   \n",
       "8                       0.0                      0.0                     0.0   \n",
       "10                      0.0                      0.0                     0.0   \n",
       "\n",
       "    saldo_medio_var33_ult3  saldo_medio_var44_hace2  saldo_medio_var44_hace3  \\\n",
       "ID                                                                             \n",
       "1                      0.0                      0.0                      0.0   \n",
       "3                      0.0                      0.0                      0.0   \n",
       "4                      0.0                      0.0                      0.0   \n",
       "8                      0.0                      0.0                      0.0   \n",
       "10                     0.0                      0.0                      0.0   \n",
       "\n",
       "    saldo_medio_var44_ult1  saldo_medio_var44_ult3          var38  TARGET  \n",
       "ID                                                                         \n",
       "1                      0.0                     0.0   39205.170000       0  \n",
       "3                      0.0                     0.0   49278.030000       0  \n",
       "4                      0.0                     0.0   67333.770000       0  \n",
       "8                      0.0                     0.0   64007.970000       0  \n",
       "10                     0.0                     0.0  117310.979016       0  \n",
       "\n",
       "[5 rows x 370 columns]"
      ]
     },
     "execution_count": 11,
     "metadata": {},
     "output_type": "execute_result"
    }
   ],
   "source": [
    "df=pd.read_csv('santander.csv',index_col='ID',nrows=20000)\n",
    "df.head()"
   ]
  },
  {
   "cell_type": "code",
   "execution_count": 12,
   "id": "8d21ce73",
   "metadata": {},
   "outputs": [
    {
     "data": {
      "text/plain": [
       "(20000, 370)"
      ]
     },
     "execution_count": 12,
     "metadata": {},
     "output_type": "execute_result"
    }
   ],
   "source": [
    "df.shape"
   ]
  },
  {
   "cell_type": "code",
   "execution_count": 13,
   "id": "32a4d562",
   "metadata": {},
   "outputs": [],
   "source": [
    "# # FILTER METHODS:\n",
    "# 1. REmoval of constant and quasiconstant features\n",
    "# 2. Removal of duplicated features\n",
    "# 3. Removal of highly correlated features\n",
    "# 4. Mutual info gain, ANOVA, CHI2, ROC_AUC score"
   ]
  },
  {
   "cell_type": "code",
   "execution_count": 16,
   "id": "4adae7a5",
   "metadata": {},
   "outputs": [],
   "source": [
    "from sklearn.model_selection import train_test_split\n",
    "\n",
    "X=df.iloc[:,:-1]\n",
    "y=df.iloc[:,-1]\n",
    "\n",
    "X_train,X_test, y_train, y_test=train_test_split(X,y, stratify=y,test_size=0.2)"
   ]
  },
  {
   "cell_type": "code",
   "execution_count": 17,
   "id": "df2458f2",
   "metadata": {},
   "outputs": [],
   "source": [
    "from sklearn.feature_selection import VarianceThreshold"
   ]
  },
  {
   "cell_type": "code",
   "execution_count": 21,
   "id": "9f453f33",
   "metadata": {},
   "outputs": [
    {
     "data": {
      "text/plain": [
       "((16000, 369), (4000, 369))"
      ]
     },
     "execution_count": 21,
     "metadata": {},
     "output_type": "execute_result"
    }
   ],
   "source": [
    "filt=VarianceThreshold(threshold=0) #Detect variables with 0 variance i.e. constant values and delete\n",
    "filt.fit(X_train)\n",
    "X_train_con=filt.transform(X_train)\n",
    "X_test_con=filt.transform(X_test)\n",
    "\n",
    "X_train.shape,X_test.shape"
   ]
  },
  {
   "cell_type": "code",
   "execution_count": 22,
   "id": "e8be8eae",
   "metadata": {},
   "outputs": [
    {
     "data": {
      "text/plain": [
       "((16000, 252), (4000, 252))"
      ]
     },
     "execution_count": 22,
     "metadata": {},
     "output_type": "execute_result"
    }
   ],
   "source": [
    "quas=VarianceThreshold(threshold=0.01) #Detect variables with just 99% constant values \n",
    "quas.fit(X_train)\n",
    "X_train_quas=quas.transform(X_train)\n",
    "X_test_quas=quas.transform(X_test)\n",
    "\n",
    "X_train_quas.shape,X_test_quas.shape"
   ]
  },
  {
   "cell_type": "code",
   "execution_count": 53,
   "id": "e02f35c5",
   "metadata": {},
   "outputs": [
    {
     "name": "stdout",
     "output_type": "stream",
     "text": [
      "(252, 16000)\n",
      "No of duplciated cols: 20\n"
     ]
    },
    {
     "data": {
      "text/plain": [
       "((16000, 232), (4000, 232))"
      ]
     },
     "execution_count": 53,
     "metadata": {},
     "output_type": "execute_result"
    }
   ],
   "source": [
    "# Remove duplicated feature\n",
    "\n",
    "print(X_train_quas.T.shape)\n",
    "\n",
    "X_train_quas_T=pd.DataFrame(X_train_quas.T)\n",
    "X_test_quas_T=pd.DataFrame(X_test_quas.T)\n",
    "\n",
    "print(f\"No of duplciated cols: {X_train_quas_T.duplicated().sum()}\")\n",
    "\n",
    "X_train_dup=X_train_quas_T.duplicated()\n",
    "features_to_keep=[not i for i in X_train_dup]\n",
    "X_train_uniq=X_train_quas_T[features_to_keep].T\n",
    "X_test_uniq=X_test_quas_T[features_to_keep].T\n",
    "X_train_uniq.shape,X_test_uniq.shape"
   ]
  },
  {
   "cell_type": "code",
   "execution_count": 57,
   "id": "496c5237",
   "metadata": {},
   "outputs": [
    {
     "data": {
      "text/html": [
       "<div>\n",
       "<style scoped>\n",
       "    .dataframe tbody tr th:only-of-type {\n",
       "        vertical-align: middle;\n",
       "    }\n",
       "\n",
       "    .dataframe tbody tr th {\n",
       "        vertical-align: top;\n",
       "    }\n",
       "\n",
       "    .dataframe thead th {\n",
       "        text-align: right;\n",
       "    }\n",
       "</style>\n",
       "<table border=\"1\" class=\"dataframe\">\n",
       "  <thead>\n",
       "    <tr style=\"text-align: right;\">\n",
       "      <th></th>\n",
       "      <th>0</th>\n",
       "      <th>1</th>\n",
       "      <th>2</th>\n",
       "      <th>3</th>\n",
       "      <th>4</th>\n",
       "      <th>5</th>\n",
       "      <th>6</th>\n",
       "      <th>7</th>\n",
       "      <th>8</th>\n",
       "      <th>9</th>\n",
       "      <th>...</th>\n",
       "      <th>242</th>\n",
       "      <th>243</th>\n",
       "      <th>244</th>\n",
       "      <th>245</th>\n",
       "      <th>246</th>\n",
       "      <th>247</th>\n",
       "      <th>248</th>\n",
       "      <th>249</th>\n",
       "      <th>250</th>\n",
       "      <th>251</th>\n",
       "    </tr>\n",
       "  </thead>\n",
       "  <tbody>\n",
       "    <tr>\n",
       "      <th>0</th>\n",
       "      <td>1.000000</td>\n",
       "      <td>-0.010646</td>\n",
       "      <td>0.001280</td>\n",
       "      <td>0.001990</td>\n",
       "      <td>0.003843</td>\n",
       "      <td>0.001874</td>\n",
       "      <td>0.002010</td>\n",
       "      <td>0.000559</td>\n",
       "      <td>0.000678</td>\n",
       "      <td>0.001740</td>\n",
       "      <td>...</td>\n",
       "      <td>0.000469</td>\n",
       "      <td>0.000683</td>\n",
       "      <td>0.000498</td>\n",
       "      <td>0.000636</td>\n",
       "      <td>0.000655</td>\n",
       "      <td>0.000620</td>\n",
       "      <td>0.000588</td>\n",
       "      <td>0.000690</td>\n",
       "      <td>0.000758</td>\n",
       "      <td>0.000586</td>\n",
       "    </tr>\n",
       "    <tr>\n",
       "      <th>1</th>\n",
       "      <td>-0.010646</td>\n",
       "      <td>1.000000</td>\n",
       "      <td>0.037091</td>\n",
       "      <td>0.107510</td>\n",
       "      <td>0.110269</td>\n",
       "      <td>0.056110</td>\n",
       "      <td>0.063419</td>\n",
       "      <td>0.001805</td>\n",
       "      <td>0.003712</td>\n",
       "      <td>0.050021</td>\n",
       "      <td>...</td>\n",
       "      <td>0.023302</td>\n",
       "      <td>0.021667</td>\n",
       "      <td>0.014249</td>\n",
       "      <td>0.020863</td>\n",
       "      <td>0.021126</td>\n",
       "      <td>0.029115</td>\n",
       "      <td>0.019503</td>\n",
       "      <td>0.035564</td>\n",
       "      <td>0.038091</td>\n",
       "      <td>-0.004175</td>\n",
       "    </tr>\n",
       "    <tr>\n",
       "      <th>2</th>\n",
       "      <td>0.001280</td>\n",
       "      <td>0.037091</td>\n",
       "      <td>1.000000</td>\n",
       "      <td>0.031012</td>\n",
       "      <td>0.025211</td>\n",
       "      <td>0.012461</td>\n",
       "      <td>0.011281</td>\n",
       "      <td>0.001027</td>\n",
       "      <td>0.003557</td>\n",
       "      <td>0.010959</td>\n",
       "      <td>...</td>\n",
       "      <td>0.012948</td>\n",
       "      <td>-0.000654</td>\n",
       "      <td>-0.000471</td>\n",
       "      <td>-0.000588</td>\n",
       "      <td>-0.000594</td>\n",
       "      <td>-0.000170</td>\n",
       "      <td>-0.000550</td>\n",
       "      <td>-0.000152</td>\n",
       "      <td>-0.000085</td>\n",
       "      <td>-0.000038</td>\n",
       "    </tr>\n",
       "    <tr>\n",
       "      <th>3</th>\n",
       "      <td>0.001990</td>\n",
       "      <td>0.107510</td>\n",
       "      <td>0.031012</td>\n",
       "      <td>1.000000</td>\n",
       "      <td>0.882025</td>\n",
       "      <td>0.377249</td>\n",
       "      <td>0.347145</td>\n",
       "      <td>0.022227</td>\n",
       "      <td>0.041449</td>\n",
       "      <td>0.309127</td>\n",
       "      <td>...</td>\n",
       "      <td>0.003090</td>\n",
       "      <td>0.026254</td>\n",
       "      <td>0.030756</td>\n",
       "      <td>0.023868</td>\n",
       "      <td>0.026177</td>\n",
       "      <td>-0.001384</td>\n",
       "      <td>-0.000261</td>\n",
       "      <td>-0.001917</td>\n",
       "      <td>-0.001925</td>\n",
       "      <td>0.003404</td>\n",
       "    </tr>\n",
       "    <tr>\n",
       "      <th>4</th>\n",
       "      <td>0.003843</td>\n",
       "      <td>0.110269</td>\n",
       "      <td>0.025211</td>\n",
       "      <td>0.882025</td>\n",
       "      <td>1.000000</td>\n",
       "      <td>0.362551</td>\n",
       "      <td>0.412234</td>\n",
       "      <td>0.024489</td>\n",
       "      <td>0.045040</td>\n",
       "      <td>0.303826</td>\n",
       "      <td>...</td>\n",
       "      <td>0.000965</td>\n",
       "      <td>0.025926</td>\n",
       "      <td>0.048870</td>\n",
       "      <td>0.017942</td>\n",
       "      <td>0.021000</td>\n",
       "      <td>-0.001519</td>\n",
       "      <td>0.000109</td>\n",
       "      <td>-0.002068</td>\n",
       "      <td>-0.002145</td>\n",
       "      <td>0.002831</td>\n",
       "    </tr>\n",
       "    <tr>\n",
       "      <th>...</th>\n",
       "      <td>...</td>\n",
       "      <td>...</td>\n",
       "      <td>...</td>\n",
       "      <td>...</td>\n",
       "      <td>...</td>\n",
       "      <td>...</td>\n",
       "      <td>...</td>\n",
       "      <td>...</td>\n",
       "      <td>...</td>\n",
       "      <td>...</td>\n",
       "      <td>...</td>\n",
       "      <td>...</td>\n",
       "      <td>...</td>\n",
       "      <td>...</td>\n",
       "      <td>...</td>\n",
       "      <td>...</td>\n",
       "      <td>...</td>\n",
       "      <td>...</td>\n",
       "      <td>...</td>\n",
       "      <td>...</td>\n",
       "      <td>...</td>\n",
       "    </tr>\n",
       "    <tr>\n",
       "      <th>247</th>\n",
       "      <td>0.000620</td>\n",
       "      <td>0.029115</td>\n",
       "      <td>-0.000170</td>\n",
       "      <td>-0.001384</td>\n",
       "      <td>-0.001519</td>\n",
       "      <td>-0.000572</td>\n",
       "      <td>-0.000610</td>\n",
       "      <td>-0.000172</td>\n",
       "      <td>-0.000208</td>\n",
       "      <td>-0.000534</td>\n",
       "      <td>...</td>\n",
       "      <td>-0.000145</td>\n",
       "      <td>0.007295</td>\n",
       "      <td>-0.000150</td>\n",
       "      <td>0.011028</td>\n",
       "      <td>0.010303</td>\n",
       "      <td>1.000000</td>\n",
       "      <td>0.335013</td>\n",
       "      <td>0.969788</td>\n",
       "      <td>0.944981</td>\n",
       "      <td>0.003537</td>\n",
       "    </tr>\n",
       "    <tr>\n",
       "      <th>248</th>\n",
       "      <td>0.000588</td>\n",
       "      <td>0.019503</td>\n",
       "      <td>-0.000550</td>\n",
       "      <td>-0.000261</td>\n",
       "      <td>0.000109</td>\n",
       "      <td>-0.000526</td>\n",
       "      <td>-0.000560</td>\n",
       "      <td>-0.000158</td>\n",
       "      <td>-0.000191</td>\n",
       "      <td>-0.000491</td>\n",
       "      <td>...</td>\n",
       "      <td>-0.000133</td>\n",
       "      <td>-0.000191</td>\n",
       "      <td>-0.000138</td>\n",
       "      <td>-0.000179</td>\n",
       "      <td>-0.000184</td>\n",
       "      <td>0.335013</td>\n",
       "      <td>1.000000</td>\n",
       "      <td>0.272504</td>\n",
       "      <td>0.277974</td>\n",
       "      <td>0.011501</td>\n",
       "    </tr>\n",
       "    <tr>\n",
       "      <th>249</th>\n",
       "      <td>0.000690</td>\n",
       "      <td>0.035564</td>\n",
       "      <td>-0.000152</td>\n",
       "      <td>-0.001917</td>\n",
       "      <td>-0.002068</td>\n",
       "      <td>-0.000638</td>\n",
       "      <td>-0.000680</td>\n",
       "      <td>-0.000192</td>\n",
       "      <td>-0.000232</td>\n",
       "      <td>-0.000596</td>\n",
       "      <td>...</td>\n",
       "      <td>-0.000161</td>\n",
       "      <td>0.006672</td>\n",
       "      <td>-0.000167</td>\n",
       "      <td>0.010109</td>\n",
       "      <td>0.009442</td>\n",
       "      <td>0.969788</td>\n",
       "      <td>0.272504</td>\n",
       "      <td>1.000000</td>\n",
       "      <td>0.994630</td>\n",
       "      <td>0.004224</td>\n",
       "    </tr>\n",
       "    <tr>\n",
       "      <th>250</th>\n",
       "      <td>0.000758</td>\n",
       "      <td>0.038091</td>\n",
       "      <td>-0.000085</td>\n",
       "      <td>-0.001925</td>\n",
       "      <td>-0.002145</td>\n",
       "      <td>-0.000700</td>\n",
       "      <td>-0.000746</td>\n",
       "      <td>-0.000210</td>\n",
       "      <td>-0.000255</td>\n",
       "      <td>-0.000653</td>\n",
       "      <td>...</td>\n",
       "      <td>-0.000177</td>\n",
       "      <td>0.009286</td>\n",
       "      <td>-0.000184</td>\n",
       "      <td>0.014033</td>\n",
       "      <td>0.013112</td>\n",
       "      <td>0.944981</td>\n",
       "      <td>0.277974</td>\n",
       "      <td>0.994630</td>\n",
       "      <td>1.000000</td>\n",
       "      <td>0.005131</td>\n",
       "    </tr>\n",
       "    <tr>\n",
       "      <th>251</th>\n",
       "      <td>0.000586</td>\n",
       "      <td>-0.004175</td>\n",
       "      <td>-0.000038</td>\n",
       "      <td>0.003404</td>\n",
       "      <td>0.002831</td>\n",
       "      <td>0.005915</td>\n",
       "      <td>0.004403</td>\n",
       "      <td>-0.000586</td>\n",
       "      <td>-0.000726</td>\n",
       "      <td>0.004352</td>\n",
       "      <td>...</td>\n",
       "      <td>-0.003727</td>\n",
       "      <td>-0.000787</td>\n",
       "      <td>-0.000371</td>\n",
       "      <td>-0.000534</td>\n",
       "      <td>-0.000601</td>\n",
       "      <td>0.003537</td>\n",
       "      <td>0.011501</td>\n",
       "      <td>0.004224</td>\n",
       "      <td>0.005131</td>\n",
       "      <td>1.000000</td>\n",
       "    </tr>\n",
       "  </tbody>\n",
       "</table>\n",
       "<p>232 rows × 232 columns</p>\n",
       "</div>"
      ],
      "text/plain": [
       "          0         1         2         3         4         5         6    \\\n",
       "0    1.000000 -0.010646  0.001280  0.001990  0.003843  0.001874  0.002010   \n",
       "1   -0.010646  1.000000  0.037091  0.107510  0.110269  0.056110  0.063419   \n",
       "2    0.001280  0.037091  1.000000  0.031012  0.025211  0.012461  0.011281   \n",
       "3    0.001990  0.107510  0.031012  1.000000  0.882025  0.377249  0.347145   \n",
       "4    0.003843  0.110269  0.025211  0.882025  1.000000  0.362551  0.412234   \n",
       "..        ...       ...       ...       ...       ...       ...       ...   \n",
       "247  0.000620  0.029115 -0.000170 -0.001384 -0.001519 -0.000572 -0.000610   \n",
       "248  0.000588  0.019503 -0.000550 -0.000261  0.000109 -0.000526 -0.000560   \n",
       "249  0.000690  0.035564 -0.000152 -0.001917 -0.002068 -0.000638 -0.000680   \n",
       "250  0.000758  0.038091 -0.000085 -0.001925 -0.002145 -0.000700 -0.000746   \n",
       "251  0.000586 -0.004175 -0.000038  0.003404  0.002831  0.005915  0.004403   \n",
       "\n",
       "          7         8         9    ...       242       243       244  \\\n",
       "0    0.000559  0.000678  0.001740  ...  0.000469  0.000683  0.000498   \n",
       "1    0.001805  0.003712  0.050021  ...  0.023302  0.021667  0.014249   \n",
       "2    0.001027  0.003557  0.010959  ...  0.012948 -0.000654 -0.000471   \n",
       "3    0.022227  0.041449  0.309127  ...  0.003090  0.026254  0.030756   \n",
       "4    0.024489  0.045040  0.303826  ...  0.000965  0.025926  0.048870   \n",
       "..        ...       ...       ...  ...       ...       ...       ...   \n",
       "247 -0.000172 -0.000208 -0.000534  ... -0.000145  0.007295 -0.000150   \n",
       "248 -0.000158 -0.000191 -0.000491  ... -0.000133 -0.000191 -0.000138   \n",
       "249 -0.000192 -0.000232 -0.000596  ... -0.000161  0.006672 -0.000167   \n",
       "250 -0.000210 -0.000255 -0.000653  ... -0.000177  0.009286 -0.000184   \n",
       "251 -0.000586 -0.000726  0.004352  ... -0.003727 -0.000787 -0.000371   \n",
       "\n",
       "          245       246       247       248       249       250       251  \n",
       "0    0.000636  0.000655  0.000620  0.000588  0.000690  0.000758  0.000586  \n",
       "1    0.020863  0.021126  0.029115  0.019503  0.035564  0.038091 -0.004175  \n",
       "2   -0.000588 -0.000594 -0.000170 -0.000550 -0.000152 -0.000085 -0.000038  \n",
       "3    0.023868  0.026177 -0.001384 -0.000261 -0.001917 -0.001925  0.003404  \n",
       "4    0.017942  0.021000 -0.001519  0.000109 -0.002068 -0.002145  0.002831  \n",
       "..        ...       ...       ...       ...       ...       ...       ...  \n",
       "247  0.011028  0.010303  1.000000  0.335013  0.969788  0.944981  0.003537  \n",
       "248 -0.000179 -0.000184  0.335013  1.000000  0.272504  0.277974  0.011501  \n",
       "249  0.010109  0.009442  0.969788  0.272504  1.000000  0.994630  0.004224  \n",
       "250  0.014033  0.013112  0.944981  0.277974  0.994630  1.000000  0.005131  \n",
       "251 -0.000534 -0.000601  0.003537  0.011501  0.004224  0.005131  1.000000  \n",
       "\n",
       "[232 rows x 232 columns]"
      ]
     },
     "execution_count": 57,
     "metadata": {},
     "output_type": "execute_result"
    }
   ],
   "source": [
    "# Remove correlated features\n",
    "\n",
    "cor=X_train_uniq.corr()\n",
    "cor"
   ]
  },
  {
   "cell_type": "code",
   "execution_count": 72,
   "id": "5a0db974",
   "metadata": {},
   "outputs": [
    {
     "name": "stdout",
     "output_type": "stream",
     "text": [
      "{4, 6, 8, 10, 11, 13, 14, 15, 16, 17, 22, 23, 27, 28, 30, 32, 33, 35, 36, 38, 42, 46, 47, 50, 51, 52, 53, 54, 55, 56, 57, 58, 59, 60, 61, 62, 65, 67, 68, 69, 70, 72, 76, 80, 81, 82, 83, 84, 86, 87, 88, 92, 93, 95, 97, 100, 102, 103, 105, 106, 114, 118, 120, 124, 128, 129, 140, 141, 142, 152, 154, 162, 163, 164, 166, 167, 168, 169, 174, 176, 178, 184, 186, 187, 188, 189, 192, 193, 194, 195, 196, 197, 198, 199, 201, 202, 203, 208, 209, 211, 212, 216, 219, 220, 221, 223, 224, 225, 227, 228, 231, 232, 233, 235, 237, 238, 239, 240, 241, 242, 243, 244, 245, 246, 247, 249, 250}\n"
     ]
    },
    {
     "data": {
      "text/plain": [
       "127"
      ]
     },
     "execution_count": 72,
     "metadata": {},
     "output_type": "execute_result"
    }
   ],
   "source": [
    "cor_col=set()\n",
    "for i in range(len(cor.columns)):\n",
    "    for j in range(i):\n",
    "        val=cor.iloc[i,j]\n",
    "        if abs(val)>=0.85:\n",
    "            cor_col.add(cor.columns[i])\n",
    "print(cor_col)\n",
    "len(cor_col)      "
   ]
  },
  {
   "cell_type": "code",
   "execution_count": 77,
   "id": "e21c8407",
   "metadata": {},
   "outputs": [
    {
     "data": {
      "text/plain": [
       "((16000, 105), (16000, 105))"
      ]
     },
     "execution_count": 77,
     "metadata": {},
     "output_type": "execute_result"
    }
   ],
   "source": [
    "X_train_uc=X_train_uniq.drop(cor_col,axis=1)\n",
    "X_test_uc=X_test_uniq.drop(cor_col,axis=1)\n",
    "X_train_uc.shape,X_train_uc.shape"
   ]
  },
  {
   "cell_type": "code",
   "execution_count": 96,
   "id": "5ea72246",
   "metadata": {},
   "outputs": [
    {
     "data": {
      "text/plain": [
       "array([1.83736041e-03, 1.31415383e-02, 4.04614862e-03, 0.00000000e+00,\n",
       "       4.18706619e-04, 2.38323940e-04, 4.39622956e-04, 4.99035837e-04,\n",
       "       5.38663977e-05, 0.00000000e+00, 3.02448255e-03, 8.36976457e-03,\n",
       "       1.23260447e-03, 0.00000000e+00, 7.78596493e-04, 5.92386746e-04,\n",
       "       2.65227635e-03, 2.77713722e-04, 9.59034692e-03, 0.00000000e+00,\n",
       "       4.35168052e-03, 1.02900656e-03, 1.03810005e-02, 4.96046298e-04,\n",
       "       1.10764540e-03, 1.30656263e-03, 1.35796593e-03, 5.28704657e-04,\n",
       "       9.43940731e-05, 0.00000000e+00, 0.00000000e+00, 2.07307538e-03,\n",
       "       0.00000000e+00, 0.00000000e+00, 0.00000000e+00, 0.00000000e+00,\n",
       "       7.70514043e-03, 0.00000000e+00, 0.00000000e+00, 8.32461268e-04,\n",
       "       2.02480754e-03, 0.00000000e+00, 0.00000000e+00, 7.74379645e-04,\n",
       "       0.00000000e+00, 1.22832346e-03, 0.00000000e+00, 1.09600185e-02,\n",
       "       1.39182953e-04, 0.00000000e+00, 0.00000000e+00, 4.51263713e-03,\n",
       "       0.00000000e+00, 0.00000000e+00, 0.00000000e+00, 0.00000000e+00,\n",
       "       0.00000000e+00, 2.18432051e-04, 8.94021981e-04, 0.00000000e+00,\n",
       "       1.09000578e-04, 1.97252185e-03, 1.75664525e-03, 0.00000000e+00,\n",
       "       0.00000000e+00, 0.00000000e+00, 0.00000000e+00, 0.00000000e+00,\n",
       "       0.00000000e+00, 9.47892790e-04, 5.24842902e-05, 1.25052016e-03,\n",
       "       0.00000000e+00, 0.00000000e+00, 1.13037160e-04, 1.00499761e-03,\n",
       "       0.00000000e+00, 3.63020063e-04, 0.00000000e+00, 4.91182313e-03,\n",
       "       2.14560388e-03, 0.00000000e+00, 0.00000000e+00, 0.00000000e+00,\n",
       "       6.54229348e-04, 1.12799294e-04, 1.10584086e-03, 0.00000000e+00,\n",
       "       0.00000000e+00, 0.00000000e+00, 0.00000000e+00, 0.00000000e+00,\n",
       "       0.00000000e+00, 7.56989146e-03, 7.87496191e-03, 6.04164880e-03,\n",
       "       6.54371734e-04, 4.23616046e-03, 0.00000000e+00, 0.00000000e+00,\n",
       "       0.00000000e+00, 7.30984058e-04, 7.29158827e-04, 0.00000000e+00,\n",
       "       3.59435313e-03])"
      ]
     },
     "execution_count": 96,
     "metadata": {},
     "output_type": "execute_result"
    }
   ],
   "source": [
    "#Mutual info gain\n",
    "\n",
    "from sklearn.feature_selection import mutual_info_classif, SelectPercentile\n",
    "\n",
    "mi=mutual_info_classif(X_train_uc,y_train)\n",
    "mi"
   ]
  },
  {
   "cell_type": "code",
   "execution_count": 111,
   "id": "d07fc21a",
   "metadata": {},
   "outputs": [
    {
     "data": {
      "text/plain": [
       "<AxesSubplot:>"
      ]
     },
     "execution_count": 111,
     "metadata": {},
     "output_type": "execute_result"
    },
    {
     "data": {
      "image/png": "[encoded data removed]",
      "text/plain": [
       "<Figure size 432x288 with 1 Axes>"
      ]
     },
     "metadata": {
      "needs_background": "light"
     },
     "output_type": "display_data"
    }
   ],
   "source": [
    "s=pd.Series(mi)\n",
    "s.index=X_train_uc.columns\n",
    "\n",
    "s.sort_values(ascending=False).plot()\n"
   ]
  },
  {
   "cell_type": "code",
   "execution_count": 172,
   "id": "bd5b9a7e",
   "metadata": {},
   "outputs": [],
   "source": [
    "sel=SelectPercentile(score_func=mutual_info_classif,percentile=90).fit(X_train_uc,y_train)\n",
    "X_train_mi=sel.transform(X_train_uc)\n",
    "X_test_mi=sel.transform(X_test_uc)"
   ]
  },
  {
   "cell_type": "code",
   "execution_count": 173,
   "id": "0497ecf1",
   "metadata": {},
   "outputs": [
    {
     "data": {
      "text/plain": [
       "((16000, 94), (4000, 94))"
      ]
     },
     "execution_count": 173,
     "metadata": {},
     "output_type": "execute_result"
    }
   ],
   "source": [
    "X_train_mi.shape,X_test_mi.shape"
   ]
  },
  {
   "cell_type": "code",
   "execution_count": 174,
   "id": "e1fdfddf",
   "metadata": {},
   "outputs": [
    {
     "data": {
      "text/plain": [
       "array([[2.00000000e+00, 2.60000000e+01, 0.00000000e+00, ...,\n",
       "        0.00000000e+00, 0.00000000e+00, 6.06710400e+04],\n",
       "       [2.00000000e+00, 2.40000000e+01, 0.00000000e+00, ...,\n",
       "        0.00000000e+00, 0.00000000e+00, 1.17310979e+05],\n",
       "       [2.00000000e+00, 2.30000000e+01, 0.00000000e+00, ...,\n",
       "        0.00000000e+00, 0.00000000e+00, 7.62364200e+04],\n",
       "       ...,\n",
       "       [2.00000000e+00, 3.10000000e+01, 0.00000000e+00, ...,\n",
       "        0.00000000e+00, 0.00000000e+00, 5.08157700e+04],\n",
       "       [2.00000000e+00, 3.10000000e+01, 0.00000000e+00, ...,\n",
       "        0.00000000e+00, 0.00000000e+00, 3.31110900e+04],\n",
       "       [2.00000000e+00, 5.40000000e+01, 0.00000000e+00, ...,\n",
       "        0.00000000e+00, 0.00000000e+00, 1.17310979e+05]])"
      ]
     },
     "execution_count": 174,
     "metadata": {},
     "output_type": "execute_result"
    }
   ],
   "source": [
    "X_train_mi"
   ]
  },
  {
   "cell_type": "code",
   "execution_count": 175,
   "id": "9bc8fe32",
   "metadata": {},
   "outputs": [],
   "source": [
    "# ANOVA"
   ]
  },
  {
   "cell_type": "code",
   "execution_count": 176,
   "id": "ac960293",
   "metadata": {},
   "outputs": [
    {
     "data": {
      "text/plain": [
       "(array([1.35686240e+00, 1.67041494e+02, 4.21766789e-01, 6.37160463e+00,\n",
       "        1.93493542e-02, 4.86747592e+00, 4.60339516e-01, 1.73650300e+01,\n",
       "        1.51566754e-01, 2.24389128e+00, 1.41090833e+01, 2.25927866e+02,\n",
       "        2.97824494e+01, 1.65582946e+01, 3.08221724e+01, 7.01874588e+00,\n",
       "        8.96951174e+00, 1.31613958e+01, 2.87784364e+02, 2.00767759e-01,\n",
       "        1.31226699e+01, 5.94575188e+00, 8.35604975e+01, 1.90050636e+00,\n",
       "        7.96024589e-01, 2.25179406e+00, 6.54796328e-02, 1.98379263e-02,\n",
       "        5.94636041e+00, 7.29486472e-02, 2.80667155e+00, 3.04346754e+01,\n",
       "        3.49795458e-01, 3.18951622e-01, 3.71039302e+00, 1.27268685e+00,\n",
       "        3.96382562e+00, 8.00857735e-02, 8.89628872e-01, 6.42323024e+00,\n",
       "        1.45901238e+01, 4.00072344e+00, 4.23427422e-02, 9.59465087e-01,\n",
       "        2.58943870e-01, 1.87237307e-01, 1.61947355e+00, 2.20438080e+01,\n",
       "        4.12589584e-01, 1.35587373e-01, 5.03486607e-01, 1.51380129e+02,\n",
       "        1.10334090e+00, 4.23675847e-01, 6.78146602e-01, 1.69404079e-01,\n",
       "        8.46910021e-02, 4.23427422e-02, 8.46910021e-02, 4.23427422e-02,\n",
       "        2.96515105e-01, 7.59544074e+00, 8.78517165e-01, 5.68539666e-02,\n",
       "        7.03791530e-02, 1.36866233e-01, 1.30851695e-01, 3.51805950e-01,\n",
       "        1.22250360e-01, 5.13950025e-02, 5.92927429e-01, 2.15238945e+00,\n",
       "        1.44228936e-01, 9.48879653e-01, 4.87286982e+00, 3.49774473e-01,\n",
       "        9.87055106e+00, 3.15615892e-01, 2.13937190e+00, 4.78214759e-01,\n",
       "        1.41301560e+00, 9.37903030e-01, 7.27479010e-01, 8.29258900e+00,\n",
       "        2.83534802e-03, 3.49561347e-02, 4.10925404e+00, 4.65604112e+00,\n",
       "        3.83005936e+00, 7.93597698e-01, 2.41965237e+00, 2.94225918e-01,\n",
       "        1.09026440e-01, 1.08550585e+01]),\n",
       " array([2.44099364e-01, 5.07780209e-38, 5.16066089e-01, 1.16056632e-02,\n",
       "        8.89371333e-01, 2.73816591e-02, 4.97475157e-01, 3.10069983e-05,\n",
       "        6.97047768e-01, 1.34162756e-01, 1.73120479e-04, 1.02251225e-50,\n",
       "        4.90535731e-08, 4.74036261e-05, 2.87285102e-08, 8.07399641e-03,\n",
       "        2.74942041e-03, 2.86665250e-04, 5.47793595e-64, 6.54107913e-01,\n",
       "        2.92646854e-04, 1.47636011e-02, 6.90725637e-20, 1.68040929e-01,\n",
       "        3.72298036e-01, 1.33479329e-01, 7.98039156e-01, 8.87992449e-01,\n",
       "        1.47585071e-02, 7.87094443e-01, 9.38925018e-02, 3.50657165e-08,\n",
       "        5.54237296e-01, 5.72246282e-01, 5.40923534e-02, 2.59280152e-01,\n",
       "        4.65049198e-02, 7.77184868e-01, 3.45592143e-01, 1.12731628e-02,\n",
       "        1.34117686e-04, 4.54976114e-02, 8.36970444e-01, 3.27336498e-01,\n",
       "        6.10853678e-01, 6.65231832e-01, 2.03183704e-01, 2.68709371e-06,\n",
       "        5.20667257e-01, 7.12712649e-01, 4.77982472e-01, 1.24134732e-34,\n",
       "        2.93549950e-01, 5.15117892e-01, 4.10237942e-01, 6.80647479e-01,\n",
       "        7.71041949e-01, 8.36970444e-01, 7.71041949e-01, 8.36970444e-01,\n",
       "        5.86083020e-01, 5.85823324e-03, 3.48622287e-01, 8.11542359e-01,\n",
       "        7.90788950e-01, 7.11421390e-01, 7.17555379e-01, 5.53100986e-01,\n",
       "        7.26611096e-01, 8.20656300e-01, 4.41300698e-01, 1.42367859e-01,\n",
       "        7.04117595e-01, 3.30019364e-01, 2.72962343e-02, 5.54249179e-01,\n",
       "        1.68251465e-03, 5.74262193e-01, 1.43580303e-01, 4.89242107e-01,\n",
       "        2.34574075e-01, 3.32832353e-01, 3.93714331e-01, 3.98600066e-03,\n",
       "        9.57534987e-01, 8.51689977e-01, 4.26657184e-02, 3.09592972e-02,\n",
       "        5.03585156e-02, 3.73027870e-01, 1.19841299e-01, 5.87532658e-01,\n",
       "        7.41259577e-01, 9.87403755e-04]))"
      ]
     },
     "execution_count": 176,
     "metadata": {},
     "output_type": "execute_result"
    }
   ],
   "source": [
    "from sklearn.feature_selection import f_classif, SelectKBest\n",
    "\n",
    "teststat_pval=f_classif(X_train_mi,y_train)\n",
    "teststat_pval"
   ]
  },
  {
   "cell_type": "code",
   "execution_count": 177,
   "id": "51a194c9",
   "metadata": {},
   "outputs": [
    {
     "data": {
      "text/plain": [
       "array([2.44099364e-01, 5.07780209e-38, 5.16066089e-01, 1.16056632e-02,\n",
       "       8.89371333e-01, 2.73816591e-02, 4.97475157e-01, 3.10069983e-05,\n",
       "       6.97047768e-01, 1.34162756e-01, 1.73120479e-04, 1.02251225e-50,\n",
       "       4.90535731e-08, 4.74036261e-05, 2.87285102e-08, 8.07399641e-03,\n",
       "       2.74942041e-03, 2.86665250e-04, 5.47793595e-64, 6.54107913e-01,\n",
       "       2.92646854e-04, 1.47636011e-02, 6.90725637e-20, 1.68040929e-01,\n",
       "       3.72298036e-01, 1.33479329e-01, 7.98039156e-01, 8.87992449e-01,\n",
       "       1.47585071e-02, 7.87094443e-01, 9.38925018e-02, 3.50657165e-08,\n",
       "       5.54237296e-01, 5.72246282e-01, 5.40923534e-02, 2.59280152e-01,\n",
       "       4.65049198e-02, 7.77184868e-01, 3.45592143e-01, 1.12731628e-02,\n",
       "       1.34117686e-04, 4.54976114e-02, 8.36970444e-01, 3.27336498e-01,\n",
       "       6.10853678e-01, 6.65231832e-01, 2.03183704e-01, 2.68709371e-06,\n",
       "       5.20667257e-01, 7.12712649e-01, 4.77982472e-01, 1.24134732e-34,\n",
       "       2.93549950e-01, 5.15117892e-01, 4.10237942e-01, 6.80647479e-01,\n",
       "       7.71041949e-01, 8.36970444e-01, 7.71041949e-01, 8.36970444e-01,\n",
       "       5.86083020e-01, 5.85823324e-03, 3.48622287e-01, 8.11542359e-01,\n",
       "       7.90788950e-01, 7.11421390e-01, 7.17555379e-01, 5.53100986e-01,\n",
       "       7.26611096e-01, 8.20656300e-01, 4.41300698e-01, 1.42367859e-01,\n",
       "       7.04117595e-01, 3.30019364e-01, 2.72962343e-02, 5.54249179e-01,\n",
       "       1.68251465e-03, 5.74262193e-01, 1.43580303e-01, 4.89242107e-01,\n",
       "       2.34574075e-01, 3.32832353e-01, 3.93714331e-01, 3.98600066e-03,\n",
       "       9.57534987e-01, 8.51689977e-01, 4.26657184e-02, 3.09592972e-02,\n",
       "       5.03585156e-02, 3.73027870e-01, 1.19841299e-01, 5.87532658e-01,\n",
       "       7.41259577e-01, 9.87403755e-04])"
      ]
     },
     "execution_count": 177,
     "metadata": {},
     "output_type": "execute_result"
    }
   ],
   "source": [
    "pval=teststat_pval[1]\n",
    "pval"
   ]
  },
  {
   "cell_type": "code",
   "execution_count": 178,
   "id": "d43e73b0",
   "metadata": {},
   "outputs": [
    {
     "data": {
      "text/plain": [
       "0     2.440994e-01\n",
       "1     5.077802e-38\n",
       "2     5.160661e-01\n",
       "3     1.160566e-02\n",
       "4     8.893713e-01\n",
       "          ...     \n",
       "89    3.730279e-01\n",
       "90    1.198413e-01\n",
       "91    5.875327e-01\n",
       "92    7.412596e-01\n",
       "93    9.874038e-04\n",
       "Length: 94, dtype: float64"
      ]
     },
     "execution_count": 178,
     "metadata": {},
     "output_type": "execute_result"
    }
   ],
   "source": [
    "s2=pd.Series(pval)\n",
    "s2\n",
    "s2.index=pd.DataFrame(X_train_mi).columns\n",
    "s2"
   ]
  },
  {
   "cell_type": "code",
   "execution_count": 179,
   "id": "3848f7ad",
   "metadata": {},
   "outputs": [
    {
     "data": {
      "text/plain": [
       "<AxesSubplot:>"
      ]
     },
     "execution_count": 179,
     "metadata": {},
     "output_type": "execute_result"
    },
    {
     "data": {
      "image/png": "[encoded data removed]",
      "text/plain": [
       "<Figure size 1440x360 with 1 Axes>"
      ]
     },
     "metadata": {
      "needs_background": "light"
     },
     "output_type": "display_data"
    }
   ],
   "source": [
    "s2.sort_values(ascending=False).plot.bar(figsize=(20,5))"
   ]
  },
  {
   "cell_type": "code",
   "execution_count": 186,
   "id": "dc6f2b41",
   "metadata": {},
   "outputs": [
    {
     "data": {
      "text/plain": [
       "((16000, 80), (4000, 80))"
      ]
     },
     "execution_count": 186,
     "metadata": {},
     "output_type": "execute_result"
    }
   ],
   "source": [
    "sel1=SelectKBest(score_func=f_classif,k=80).fit(X_train_mi,y_train)\n",
    "X_train_ao=sel1.transform(X_train_mi)\n",
    "X_test_ao=sel1.transform(X_test_mi)\n",
    "X_train_ao.shape,X_test_ao.shape"
   ]
  },
  {
   "cell_type": "code",
   "execution_count": 187,
   "id": "681bc05a",
   "metadata": {},
   "outputs": [],
   "source": [
    "# ROC_AUC SCORE BASED\n",
    "\n",
    "from sklearn.metrics import roc_auc_score, accuracy_score\n",
    "from sklearn.ensemble import RandomForestClassifier\n"
   ]
  },
  {
   "cell_type": "code",
   "execution_count": 188,
   "id": "60bb6b94",
   "metadata": {},
   "outputs": [],
   "source": [
    "def run_rf(X_train,X_test,y_train,y_test):\n",
    "    rf=RandomForestClassifier(n_estimators=100,n_jobs=-1)\n",
    "    rf.fit(X_train,y_train)\n",
    "    y_pred=rf.predict(X_test)\n",
    "\n",
    "    roc_=roc_auc_score(y_test,y_pred)\n",
    "    return roc_"
   ]
  },
  {
   "cell_type": "code",
   "execution_count": 189,
   "id": "6d96c386",
   "metadata": {},
   "outputs": [
    {
     "name": "stdout",
     "output_type": "stream",
     "text": [
      "[0.5, 0.5, 0.5, 0.5, 0.5, 0.5, 0.5, 0.5, 0.5, 0.5, 0.5, 0.5, 0.5, 0.5, 0.5, 0.5, 0.5, 0.5, 0.5, 0.5, 0.5, 0.5, 0.5, 0.5, 0.5, 0.5, 0.5, 0.5, 0.5, 0.5, 0.5, 0.5, 0.5, 0.5, 0.5, 0.5, 0.5, 0.5, 0.5, 0.5, 0.5, 0.5, 0.5, 0.5, 0.5, 0.5, 0.5, 0.5, 0.5, 0.5, 0.5, 0.5, 0.5, 0.5, 0.5, 0.5, 0.5, 0.5, 0.5, 0.5, 0.5, 0.5, 0.5, 0.5, 0.5, 0.5, 0.5, 0.5, 0.5, 0.5, 0.5, 0.5, 0.5, 0.5, 0.5, 0.5, 0.5, 0.5, 0.5, 0.5]\n"
     ]
    }
   ],
   "source": [
    "roc=[]\n",
    "X_train_ao=pd.DataFrame(X_train_ao)\n",
    "X_test_ao=pd.DataFrame(X_test_ao)\n",
    "for i in X_train_ao.columns:\n",
    "#     print(X_train_ao.iloc[:,i])\n",
    "    roc__=run_rf(pd.DataFrame(X_train_ao.iloc[:,1]),pd.DataFrame(X_test_ao.iloc[:,1]),y_train,y_test)\n",
    "    roc.append(roc__)\n",
    "print(roc)"
   ]
  },
  {
   "cell_type": "code",
   "execution_count": 190,
   "id": "336f75bc",
   "metadata": {},
   "outputs": [
    {
     "data": {
      "text/plain": [
       "0     0.5\n",
       "1     0.5\n",
       "2     0.5\n",
       "3     0.5\n",
       "4     0.5\n",
       "     ... \n",
       "75    0.5\n",
       "76    0.5\n",
       "77    0.5\n",
       "78    0.5\n",
       "79    0.5\n",
       "Length: 80, dtype: float64"
      ]
     },
     "execution_count": 190,
     "metadata": {},
     "output_type": "execute_result"
    }
   ],
   "source": [
    "roc_ao=pd.Series(roc,index=X_train_ao.columns)\n",
    "roc_ao"
   ]
  },
  {
   "cell_type": "code",
   "execution_count": 193,
   "id": "55ff9cb8",
   "metadata": {},
   "outputs": [
    {
     "data": {
      "text/plain": [
       "0     False\n",
       "1     False\n",
       "2     False\n",
       "3     False\n",
       "4     False\n",
       "      ...  \n",
       "75    False\n",
       "76    False\n",
       "77    False\n",
       "78    False\n",
       "79    False\n",
       "Length: 80, dtype: bool"
      ]
     },
     "execution_count": 193,
     "metadata": {},
     "output_type": "execute_result"
    }
   ],
   "source": [
    "roc_ao>0.5"
   ]
  },
  {
   "cell_type": "code",
   "execution_count": 199,
   "id": "d266ade6",
   "metadata": {},
   "outputs": [
    {
     "data": {
      "text/html": [
       "<div>\n",
       "<style scoped>\n",
       "    .dataframe tbody tr th:only-of-type {\n",
       "        vertical-align: middle;\n",
       "    }\n",
       "\n",
       "    .dataframe tbody tr th {\n",
       "        vertical-align: top;\n",
       "    }\n",
       "\n",
       "    .dataframe thead th {\n",
       "        text-align: right;\n",
       "    }\n",
       "</style>\n",
       "<table border=\"1\" class=\"dataframe\">\n",
       "  <thead>\n",
       "    <tr style=\"text-align: right;\">\n",
       "      <th></th>\n",
       "      <th>0</th>\n",
       "      <th>1</th>\n",
       "      <th>2</th>\n",
       "      <th>3</th>\n",
       "      <th>4</th>\n",
       "      <th>5</th>\n",
       "      <th>6</th>\n",
       "      <th>7</th>\n",
       "      <th>8</th>\n",
       "      <th>9</th>\n",
       "      <th>...</th>\n",
       "      <th>70</th>\n",
       "      <th>71</th>\n",
       "      <th>72</th>\n",
       "      <th>73</th>\n",
       "      <th>74</th>\n",
       "      <th>75</th>\n",
       "      <th>76</th>\n",
       "      <th>77</th>\n",
       "      <th>78</th>\n",
       "      <th>79</th>\n",
       "    </tr>\n",
       "  </thead>\n",
       "  <tbody>\n",
       "    <tr>\n",
       "      <th>0</th>\n",
       "      <td>2.0</td>\n",
       "      <td>26.0</td>\n",
       "      <td>0.0</td>\n",
       "      <td>0.00</td>\n",
       "      <td>0.0</td>\n",
       "      <td>0.0</td>\n",
       "      <td>0.0</td>\n",
       "      <td>0.0</td>\n",
       "      <td>0.0</td>\n",
       "      <td>1.0</td>\n",
       "      <td>...</td>\n",
       "      <td>2.0</td>\n",
       "      <td>0.0</td>\n",
       "      <td>90.00</td>\n",
       "      <td>73.32</td>\n",
       "      <td>90.00</td>\n",
       "      <td>0.0</td>\n",
       "      <td>0.0</td>\n",
       "      <td>0.0</td>\n",
       "      <td>0.0</td>\n",
       "      <td>60671.040000</td>\n",
       "    </tr>\n",
       "    <tr>\n",
       "      <th>1</th>\n",
       "      <td>2.0</td>\n",
       "      <td>24.0</td>\n",
       "      <td>0.0</td>\n",
       "      <td>0.00</td>\n",
       "      <td>0.0</td>\n",
       "      <td>0.0</td>\n",
       "      <td>0.0</td>\n",
       "      <td>0.0</td>\n",
       "      <td>0.0</td>\n",
       "      <td>1.0</td>\n",
       "      <td>...</td>\n",
       "      <td>2.0</td>\n",
       "      <td>0.0</td>\n",
       "      <td>3.00</td>\n",
       "      <td>0.63</td>\n",
       "      <td>3.00</td>\n",
       "      <td>0.0</td>\n",
       "      <td>0.0</td>\n",
       "      <td>0.0</td>\n",
       "      <td>0.0</td>\n",
       "      <td>117310.979016</td>\n",
       "    </tr>\n",
       "    <tr>\n",
       "      <th>2</th>\n",
       "      <td>2.0</td>\n",
       "      <td>23.0</td>\n",
       "      <td>0.0</td>\n",
       "      <td>0.00</td>\n",
       "      <td>0.0</td>\n",
       "      <td>0.0</td>\n",
       "      <td>0.0</td>\n",
       "      <td>0.0</td>\n",
       "      <td>0.0</td>\n",
       "      <td>1.0</td>\n",
       "      <td>...</td>\n",
       "      <td>2.0</td>\n",
       "      <td>0.0</td>\n",
       "      <td>3.00</td>\n",
       "      <td>0.96</td>\n",
       "      <td>3.00</td>\n",
       "      <td>0.0</td>\n",
       "      <td>0.0</td>\n",
       "      <td>0.0</td>\n",
       "      <td>0.0</td>\n",
       "      <td>76236.420000</td>\n",
       "    </tr>\n",
       "    <tr>\n",
       "      <th>3</th>\n",
       "      <td>2.0</td>\n",
       "      <td>23.0</td>\n",
       "      <td>0.0</td>\n",
       "      <td>0.00</td>\n",
       "      <td>0.0</td>\n",
       "      <td>0.0</td>\n",
       "      <td>0.0</td>\n",
       "      <td>0.0</td>\n",
       "      <td>0.0</td>\n",
       "      <td>1.0</td>\n",
       "      <td>...</td>\n",
       "      <td>2.0</td>\n",
       "      <td>0.0</td>\n",
       "      <td>0.00</td>\n",
       "      <td>0.00</td>\n",
       "      <td>0.00</td>\n",
       "      <td>0.0</td>\n",
       "      <td>0.0</td>\n",
       "      <td>0.0</td>\n",
       "      <td>0.0</td>\n",
       "      <td>46952.520000</td>\n",
       "    </tr>\n",
       "    <tr>\n",
       "      <th>4</th>\n",
       "      <td>2.0</td>\n",
       "      <td>84.0</td>\n",
       "      <td>0.0</td>\n",
       "      <td>0.00</td>\n",
       "      <td>0.0</td>\n",
       "      <td>0.0</td>\n",
       "      <td>0.0</td>\n",
       "      <td>0.0</td>\n",
       "      <td>0.0</td>\n",
       "      <td>1.0</td>\n",
       "      <td>...</td>\n",
       "      <td>2.0</td>\n",
       "      <td>0.0</td>\n",
       "      <td>863.22</td>\n",
       "      <td>12.00</td>\n",
       "      <td>60.00</td>\n",
       "      <td>0.0</td>\n",
       "      <td>0.0</td>\n",
       "      <td>0.0</td>\n",
       "      <td>0.0</td>\n",
       "      <td>72548.250000</td>\n",
       "    </tr>\n",
       "    <tr>\n",
       "      <th>...</th>\n",
       "      <td>...</td>\n",
       "      <td>...</td>\n",
       "      <td>...</td>\n",
       "      <td>...</td>\n",
       "      <td>...</td>\n",
       "      <td>...</td>\n",
       "      <td>...</td>\n",
       "      <td>...</td>\n",
       "      <td>...</td>\n",
       "      <td>...</td>\n",
       "      <td>...</td>\n",
       "      <td>...</td>\n",
       "      <td>...</td>\n",
       "      <td>...</td>\n",
       "      <td>...</td>\n",
       "      <td>...</td>\n",
       "      <td>...</td>\n",
       "      <td>...</td>\n",
       "      <td>...</td>\n",
       "      <td>...</td>\n",
       "      <td>...</td>\n",
       "    </tr>\n",
       "    <tr>\n",
       "      <th>15995</th>\n",
       "      <td>2.0</td>\n",
       "      <td>41.0</td>\n",
       "      <td>0.0</td>\n",
       "      <td>0.00</td>\n",
       "      <td>0.0</td>\n",
       "      <td>0.0</td>\n",
       "      <td>0.0</td>\n",
       "      <td>0.0</td>\n",
       "      <td>0.0</td>\n",
       "      <td>1.0</td>\n",
       "      <td>...</td>\n",
       "      <td>0.0</td>\n",
       "      <td>0.0</td>\n",
       "      <td>0.00</td>\n",
       "      <td>0.00</td>\n",
       "      <td>0.00</td>\n",
       "      <td>0.0</td>\n",
       "      <td>0.0</td>\n",
       "      <td>0.0</td>\n",
       "      <td>0.0</td>\n",
       "      <td>346567.140000</td>\n",
       "    </tr>\n",
       "    <tr>\n",
       "      <th>15996</th>\n",
       "      <td>2.0</td>\n",
       "      <td>27.0</td>\n",
       "      <td>0.0</td>\n",
       "      <td>0.00</td>\n",
       "      <td>0.0</td>\n",
       "      <td>0.0</td>\n",
       "      <td>0.0</td>\n",
       "      <td>0.0</td>\n",
       "      <td>0.0</td>\n",
       "      <td>1.0</td>\n",
       "      <td>...</td>\n",
       "      <td>2.0</td>\n",
       "      <td>0.0</td>\n",
       "      <td>450.00</td>\n",
       "      <td>62.07</td>\n",
       "      <td>450.00</td>\n",
       "      <td>0.0</td>\n",
       "      <td>0.0</td>\n",
       "      <td>0.0</td>\n",
       "      <td>0.0</td>\n",
       "      <td>142617.660000</td>\n",
       "    </tr>\n",
       "    <tr>\n",
       "      <th>15997</th>\n",
       "      <td>2.0</td>\n",
       "      <td>31.0</td>\n",
       "      <td>0.0</td>\n",
       "      <td>0.00</td>\n",
       "      <td>0.0</td>\n",
       "      <td>0.0</td>\n",
       "      <td>0.0</td>\n",
       "      <td>0.0</td>\n",
       "      <td>0.0</td>\n",
       "      <td>1.0</td>\n",
       "      <td>...</td>\n",
       "      <td>0.0</td>\n",
       "      <td>0.0</td>\n",
       "      <td>0.00</td>\n",
       "      <td>0.00</td>\n",
       "      <td>0.00</td>\n",
       "      <td>0.0</td>\n",
       "      <td>0.0</td>\n",
       "      <td>0.0</td>\n",
       "      <td>0.0</td>\n",
       "      <td>50815.770000</td>\n",
       "    </tr>\n",
       "    <tr>\n",
       "      <th>15998</th>\n",
       "      <td>2.0</td>\n",
       "      <td>31.0</td>\n",
       "      <td>0.0</td>\n",
       "      <td>74.34</td>\n",
       "      <td>0.0</td>\n",
       "      <td>0.0</td>\n",
       "      <td>0.0</td>\n",
       "      <td>0.0</td>\n",
       "      <td>0.0</td>\n",
       "      <td>1.0</td>\n",
       "      <td>...</td>\n",
       "      <td>2.0</td>\n",
       "      <td>0.0</td>\n",
       "      <td>6.30</td>\n",
       "      <td>0.00</td>\n",
       "      <td>30.81</td>\n",
       "      <td>0.0</td>\n",
       "      <td>0.0</td>\n",
       "      <td>0.0</td>\n",
       "      <td>0.0</td>\n",
       "      <td>33111.090000</td>\n",
       "    </tr>\n",
       "    <tr>\n",
       "      <th>15999</th>\n",
       "      <td>2.0</td>\n",
       "      <td>54.0</td>\n",
       "      <td>0.0</td>\n",
       "      <td>0.00</td>\n",
       "      <td>0.0</td>\n",
       "      <td>0.0</td>\n",
       "      <td>0.0</td>\n",
       "      <td>0.0</td>\n",
       "      <td>0.0</td>\n",
       "      <td>1.0</td>\n",
       "      <td>...</td>\n",
       "      <td>1.0</td>\n",
       "      <td>0.0</td>\n",
       "      <td>60.00</td>\n",
       "      <td>9.69</td>\n",
       "      <td>60.27</td>\n",
       "      <td>0.0</td>\n",
       "      <td>0.0</td>\n",
       "      <td>0.0</td>\n",
       "      <td>0.0</td>\n",
       "      <td>117310.979016</td>\n",
       "    </tr>\n",
       "  </tbody>\n",
       "</table>\n",
       "<p>16000 rows × 80 columns</p>\n",
       "</div>"
      ],
      "text/plain": [
       "        0     1    2      3    4    5    6    7    8    9   ...   70   71  \\\n",
       "0      2.0  26.0  0.0   0.00  0.0  0.0  0.0  0.0  0.0  1.0  ...  2.0  0.0   \n",
       "1      2.0  24.0  0.0   0.00  0.0  0.0  0.0  0.0  0.0  1.0  ...  2.0  0.0   \n",
       "2      2.0  23.0  0.0   0.00  0.0  0.0  0.0  0.0  0.0  1.0  ...  2.0  0.0   \n",
       "3      2.0  23.0  0.0   0.00  0.0  0.0  0.0  0.0  0.0  1.0  ...  2.0  0.0   \n",
       "4      2.0  84.0  0.0   0.00  0.0  0.0  0.0  0.0  0.0  1.0  ...  2.0  0.0   \n",
       "...    ...   ...  ...    ...  ...  ...  ...  ...  ...  ...  ...  ...  ...   \n",
       "15995  2.0  41.0  0.0   0.00  0.0  0.0  0.0  0.0  0.0  1.0  ...  0.0  0.0   \n",
       "15996  2.0  27.0  0.0   0.00  0.0  0.0  0.0  0.0  0.0  1.0  ...  2.0  0.0   \n",
       "15997  2.0  31.0  0.0   0.00  0.0  0.0  0.0  0.0  0.0  1.0  ...  0.0  0.0   \n",
       "15998  2.0  31.0  0.0  74.34  0.0  0.0  0.0  0.0  0.0  1.0  ...  2.0  0.0   \n",
       "15999  2.0  54.0  0.0   0.00  0.0  0.0  0.0  0.0  0.0  1.0  ...  1.0  0.0   \n",
       "\n",
       "           72     73      74   75   76   77   78             79  \n",
       "0       90.00  73.32   90.00  0.0  0.0  0.0  0.0   60671.040000  \n",
       "1        3.00   0.63    3.00  0.0  0.0  0.0  0.0  117310.979016  \n",
       "2        3.00   0.96    3.00  0.0  0.0  0.0  0.0   76236.420000  \n",
       "3        0.00   0.00    0.00  0.0  0.0  0.0  0.0   46952.520000  \n",
       "4      863.22  12.00   60.00  0.0  0.0  0.0  0.0   72548.250000  \n",
       "...       ...    ...     ...  ...  ...  ...  ...            ...  \n",
       "15995    0.00   0.00    0.00  0.0  0.0  0.0  0.0  346567.140000  \n",
       "15996  450.00  62.07  450.00  0.0  0.0  0.0  0.0  142617.660000  \n",
       "15997    0.00   0.00    0.00  0.0  0.0  0.0  0.0   50815.770000  \n",
       "15998    6.30   0.00   30.81  0.0  0.0  0.0  0.0   33111.090000  \n",
       "15999   60.00   9.69   60.27  0.0  0.0  0.0  0.0  117310.979016  \n",
       "\n",
       "[16000 rows x 80 columns]"
      ]
     },
     "execution_count": 199,
     "metadata": {},
     "output_type": "execute_result"
    }
   ],
   "source": [
    "X_train_roc=X_train_ao[roc_ao[roc_ao>=0.5].index.to_list()]\n",
    "X_test_roc=X_test_ao[roc_ao[roc_ao>=0.5].index.to_list()]\n",
    "X_train_roc"
   ]
  },
  {
   "cell_type": "code",
   "execution_count": 200,
   "id": "7a791ffa",
   "metadata": {},
   "outputs": [],
   "source": [
    "def run_rf1(X_train,X_test,y_train,y_test):\n",
    "    rf=RandomForestClassifier(n_estimators=100,n_jobs=-1)\n",
    "    rf.fit(X_train,y_train)\n",
    "    y_pred=rf.predict(X_test)\n",
    "    \n",
    "    print(accuracy_score(y_test,y_pred))\n",
    "    print()\n",
    "\n"
   ]
  },
  {
   "cell_type": "code",
   "execution_count": 201,
   "id": "0353ce5d",
   "metadata": {},
   "outputs": [
    {
     "name": "stdout",
     "output_type": "stream",
     "text": [
      "0.953\n",
      "\n",
      "Wall time: 1.72 s\n"
     ]
    }
   ],
   "source": [
    "%%time\n",
    "run_rf1(X_train,X_test,y_train,y_test) #FULL DATA"
   ]
  },
  {
   "cell_type": "code",
   "execution_count": 202,
   "id": "764d6481",
   "metadata": {},
   "outputs": [
    {
     "name": "stdout",
     "output_type": "stream",
     "text": [
      "0.95425\n",
      "\n",
      "Wall time: 1.6 s\n"
     ]
    }
   ],
   "source": [
    "%%time\n",
    "run_rf1(X_train_con,X_test_con,y_train,y_test) #constant removed"
   ]
  },
  {
   "cell_type": "code",
   "execution_count": 204,
   "id": "12843318",
   "metadata": {},
   "outputs": [
    {
     "name": "stdout",
     "output_type": "stream",
     "text": [
      "0.952\n",
      "\n",
      "Wall time: 1.56 s\n"
     ]
    }
   ],
   "source": [
    "%%time\n",
    "run_rf1(X_train_quas,X_test_quas,y_train,y_test) #quasi constant removed"
   ]
  },
  {
   "cell_type": "code",
   "execution_count": 206,
   "id": "36ba99d4",
   "metadata": {},
   "outputs": [
    {
     "name": "stdout",
     "output_type": "stream",
     "text": [
      "0.95375\n",
      "\n",
      "Wall time: 1.46 s\n"
     ]
    }
   ],
   "source": [
    "%%time\n",
    "run_rf1(X_train_uniq,X_test_uniq,y_train,y_test) #duplicate removed"
   ]
  },
  {
   "cell_type": "code",
   "execution_count": 208,
   "id": "ab8ac0ba",
   "metadata": {},
   "outputs": [
    {
     "name": "stdout",
     "output_type": "stream",
     "text": [
      "0.953\n",
      "\n",
      "Wall time: 1.48 s\n"
     ]
    }
   ],
   "source": [
    "%%time\n",
    "run_rf1(X_train_mi,X_test_mi,y_train,y_test) #mutual info gain removed"
   ]
  },
  {
   "cell_type": "code",
   "execution_count": 209,
   "id": "03aa10d7",
   "metadata": {},
   "outputs": [
    {
     "name": "stdout",
     "output_type": "stream",
     "text": [
      "0.954\n",
      "\n",
      "Wall time: 1.64 s\n"
     ]
    }
   ],
   "source": [
    "%%time\n",
    "run_rf1(X_train_ao,X_test_ao,y_train,y_test) #anova removed"
   ]
  },
  {
   "cell_type": "code",
   "execution_count": 211,
   "id": "467f35b1",
   "metadata": {},
   "outputs": [
    {
     "name": "stdout",
     "output_type": "stream",
     "text": [
      "0.953\n",
      "\n",
      "Wall time: 1.03 s\n"
     ]
    }
   ],
   "source": [
    "%%time\n",
    "run_rf1(X_train_uc,X_test_uc,y_train,y_test) #correlated removed"
   ]
  },
  {
   "cell_type": "code",
   "execution_count": null,
   "id": "182c7bd8",
   "metadata": {},
   "outputs": [],
   "source": []
  },
  {
   "cell_type": "code",
   "execution_count": null,
   "id": "aae2e5ec",
   "metadata": {},
   "outputs": [],
   "source": []
  },
  {
   "cell_type": "code",
   "execution_count": null,
   "id": "8973e365",
   "metadata": {},
   "outputs": [],
   "source": []
  },
  {
   "cell_type": "code",
   "execution_count": null,
   "id": "d9432d27",
   "metadata": {},
   "outputs": [],
   "source": []
  },
  {
   "cell_type": "code",
   "execution_count": null,
   "id": "28a76460",
   "metadata": {},
   "outputs": [],
   "source": []
  },
  {
   "cell_type": "code",
   "execution_count": null,
   "id": "896468f9",
   "metadata": {},
   "outputs": [],
   "source": []
  }
 ],
 "metadata": {
  "kernelspec": {
   "display_name": "Python 3",
   "language": "python",
   "name": "python3"
  },
  "language_info": {
   "codemirror_mode": {
    "name": "ipython",
    "version": 3
   },
   "file_extension": ".py",
   "mimetype": "text/x-python",
   "name": "python",
   "nbconvert_exporter": "python",
   "pygments_lexer": "ipython3",
   "version": "3.8.8"
  }
 },
 "nbformat": 4,
 "nbformat_minor": 5
}
